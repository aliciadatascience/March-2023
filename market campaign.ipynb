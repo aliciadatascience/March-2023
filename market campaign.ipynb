{
 "cells": [
  {
   "cell_type": "markdown",
   "metadata": {},
   "source": [
    "# Project: Marketing Email Campaign---Is there any way to improve click through rate in email marketing campaigns?"
   ]
  },
  {
   "cell_type": "markdown",
   "metadata": {},
   "source": [
    "## Key Words: Segment users, XGBoost, Roc curve, Probability threshold, Classification Report, Precision Score, Recall Score"
   ]
  },
  {
   "cell_type": "markdown",
   "metadata": {},
   "source": [
    "## Background:\n",
    "Optimizing marketing campaigns is one of the most common data science tasks. In this project, the marketing team of an e-commerce site has launched an email campgain. They chosen a random sample of users and emailed them. The email let the user know that the company will launch a new feature. From the marketing team perspective, a success is if the user clicks on the link inside the email. I will study if the click through rate can be improved. During this process, I will sovle the following questions: \n",
    "\n",
    "**Question 1:** What percentage of uses opened the email and what percentage clicked on the link within the email?\n",
    "\n",
    "**Question 2:** For different segments of users, is there any pattern on how the email campaign performed?\n",
    "\n",
    "**Question 3:** Can a model be build to maximize the probability of users clicking on the link inside the email insteading of sending email randomly? How much the model can improve the click through rate?\n",
    "\n",
    "**Question 4:** How to test if the model can improve click through rate?"
   ]
  },
  {
   "cell_type": "code",
   "execution_count": 2,
   "metadata": {},
   "outputs": [
    {
     "data": {
      "text/plain": [
       "<Figure size 432x288 with 0 Axes>"
      ]
     },
     "metadata": {},
     "output_type": "display_data"
    }
   ],
   "source": [
    "import numpy as np\n",
    "import pandas as pd\n",
    "import matplotlib.pyplot as plt\n",
    "import seaborn as sns\n",
    "\n",
    "from sklearn.preprocessing import LabelEncoder\n",
    "from sklearn.feature_selection import chi2\n",
    "from sklearn.model_selection import train_test_split\n",
    "from sklearn.metrics import classification_report, roc_curve, precision_score, recall_score\n",
    "\n",
    "import xgboost as xgb\n",
    "\n",
    "%matplotlib inline\n",
    "plt.tight_layout()"
   ]
  },
  {
   "cell_type": "markdown",
   "metadata": {},
   "source": [
    "# Table of Contents\n",
    "  1. [Preparing Data](#preparing)\n",
    "  2. [Question 1](#question1)\n",
    "  3. [Explore Pattern for different segments of users](#explorepattern)  \n",
    "  [Country vs. Customers'reactions](#country)  \n",
    "  [Email personalized vs. Customers' reactions](#emailpersonalized)  \n",
    "  [Country vs. Personalized vs. Customers' reactions](#countrypersonalized)\n",
    "  [Purchase history vs. Customers' reactions](#purchasehistory)  \n",
    "  [Weekday vs. Customers' reactions](#weekday)  \n",
    "  [Country vs. Weekday vs. Customers' reactions](#countryweekday)  \n",
    "  [Email length vs. Customers'reaction](#emaillength)  \n",
    "  [Country vs. Email Length vs. Customers' reactions](#countrylength) \n",
    "  4. [Question 2](#question2)\n",
    "  5. [Build Predictive Model](#build)  \n",
    "  [Prepare the data](#prepare)  \n",
    "  [Train the model](#train)  \n",
    "  [Plot ROC curve and choose probability threshold](#plot)\n",
    "  6. [Question 3](#question3)\n",
    "  7. [Question 4](#question4)"
   ]
  },
  {
   "cell_type": "markdown",
   "metadata": {},
   "source": [
    "<a id='preparing'></a>\n",
    "## Preparing Data"
   ]
  },
  {
   "cell_type": "code",
   "execution_count": 4,
   "metadata": {},
   "outputs": [
    {
     "data": {
      "text/html": [
       "<div>\n",
       "<style scoped>\n",
       "    .dataframe tbody tr th:only-of-type {\n",
       "        vertical-align: middle;\n",
       "    }\n",
       "\n",
       "    .dataframe tbody tr th {\n",
       "        vertical-align: top;\n",
       "    }\n",
       "\n",
       "    .dataframe thead th {\n",
       "        text-align: right;\n",
       "    }\n",
       "</style>\n",
       "<table border=\"1\" class=\"dataframe\">\n",
       "  <thead>\n",
       "    <tr style=\"text-align: right;\">\n",
       "      <th></th>\n",
       "      <th>email_text</th>\n",
       "      <th>email_version</th>\n",
       "      <th>hour</th>\n",
       "      <th>weekday</th>\n",
       "      <th>user_country</th>\n",
       "      <th>user_past_purchases</th>\n",
       "    </tr>\n",
       "    <tr>\n",
       "      <th>email_id</th>\n",
       "      <th></th>\n",
       "      <th></th>\n",
       "      <th></th>\n",
       "      <th></th>\n",
       "      <th></th>\n",
       "      <th></th>\n",
       "    </tr>\n",
       "  </thead>\n",
       "  <tbody>\n",
       "    <tr>\n",
       "      <th>85120</th>\n",
       "      <td>short_email</td>\n",
       "      <td>personalized</td>\n",
       "      <td>2</td>\n",
       "      <td>Sunday</td>\n",
       "      <td>US</td>\n",
       "      <td>5</td>\n",
       "    </tr>\n",
       "    <tr>\n",
       "      <th>966622</th>\n",
       "      <td>long_email</td>\n",
       "      <td>personalized</td>\n",
       "      <td>12</td>\n",
       "      <td>Sunday</td>\n",
       "      <td>UK</td>\n",
       "      <td>2</td>\n",
       "    </tr>\n",
       "    <tr>\n",
       "      <th>777221</th>\n",
       "      <td>long_email</td>\n",
       "      <td>personalized</td>\n",
       "      <td>11</td>\n",
       "      <td>Wednesday</td>\n",
       "      <td>US</td>\n",
       "      <td>2</td>\n",
       "    </tr>\n",
       "    <tr>\n",
       "      <th>493711</th>\n",
       "      <td>short_email</td>\n",
       "      <td>generic</td>\n",
       "      <td>6</td>\n",
       "      <td>Monday</td>\n",
       "      <td>UK</td>\n",
       "      <td>1</td>\n",
       "    </tr>\n",
       "    <tr>\n",
       "      <th>106887</th>\n",
       "      <td>long_email</td>\n",
       "      <td>generic</td>\n",
       "      <td>14</td>\n",
       "      <td>Monday</td>\n",
       "      <td>US</td>\n",
       "      <td>6</td>\n",
       "    </tr>\n",
       "  </tbody>\n",
       "</table>\n",
       "</div>"
      ],
      "text/plain": [
       "           email_text email_version  hour    weekday user_country  \\\n",
       "email_id                                                            \n",
       "85120     short_email  personalized     2     Sunday           US   \n",
       "966622     long_email  personalized    12     Sunday           UK   \n",
       "777221     long_email  personalized    11  Wednesday           US   \n",
       "493711    short_email       generic     6     Monday           UK   \n",
       "106887     long_email       generic    14     Monday           US   \n",
       "\n",
       "          user_past_purchases  \n",
       "email_id                       \n",
       "85120                       5  \n",
       "966622                      2  \n",
       "777221                      2  \n",
       "493711                      1  \n",
       "106887                      6  "
      ]
     },
     "execution_count": 4,
     "metadata": {},
     "output_type": "execute_result"
    }
   ],
   "source": [
    "# read the email table and corresponding describe and statistical information\n",
    "email = pd.read_csv('C:/Users/xiaoj/Desktop/level 20 interview/email/email_table.csv',index_col = 'email_id')\n",
    "email.head()"
   ]
  },
  {
   "cell_type": "code",
   "execution_count": 338,
   "metadata": {},
   "outputs": [
    {
     "data": {
      "text/html": [
       "<div>\n",
       "<style scoped>\n",
       "    .dataframe tbody tr th:only-of-type {\n",
       "        vertical-align: middle;\n",
       "    }\n",
       "\n",
       "    .dataframe tbody tr th {\n",
       "        vertical-align: top;\n",
       "    }\n",
       "\n",
       "    .dataframe thead th {\n",
       "        text-align: right;\n",
       "    }\n",
       "</style>\n",
       "<table border=\"1\" class=\"dataframe\">\n",
       "  <thead>\n",
       "    <tr style=\"text-align: right;\">\n",
       "      <th></th>\n",
       "      <th>is_short</th>\n",
       "      <th>is_personalized</th>\n",
       "      <th>hour</th>\n",
       "      <th>weekday</th>\n",
       "      <th>country</th>\n",
       "      <th>purchases</th>\n",
       "    </tr>\n",
       "    <tr>\n",
       "      <th>email_id</th>\n",
       "      <th></th>\n",
       "      <th></th>\n",
       "      <th></th>\n",
       "      <th></th>\n",
       "      <th></th>\n",
       "      <th></th>\n",
       "    </tr>\n",
       "  </thead>\n",
       "  <tbody>\n",
       "    <tr>\n",
       "      <th>85120</th>\n",
       "      <td>short_email</td>\n",
       "      <td>personalized</td>\n",
       "      <td>2</td>\n",
       "      <td>Sunday</td>\n",
       "      <td>US</td>\n",
       "      <td>5</td>\n",
       "    </tr>\n",
       "    <tr>\n",
       "      <th>966622</th>\n",
       "      <td>long_email</td>\n",
       "      <td>personalized</td>\n",
       "      <td>12</td>\n",
       "      <td>Sunday</td>\n",
       "      <td>UK</td>\n",
       "      <td>2</td>\n",
       "    </tr>\n",
       "    <tr>\n",
       "      <th>777221</th>\n",
       "      <td>long_email</td>\n",
       "      <td>personalized</td>\n",
       "      <td>11</td>\n",
       "      <td>Wednesday</td>\n",
       "      <td>US</td>\n",
       "      <td>2</td>\n",
       "    </tr>\n",
       "    <tr>\n",
       "      <th>493711</th>\n",
       "      <td>short_email</td>\n",
       "      <td>generic</td>\n",
       "      <td>6</td>\n",
       "      <td>Monday</td>\n",
       "      <td>UK</td>\n",
       "      <td>1</td>\n",
       "    </tr>\n",
       "    <tr>\n",
       "      <th>106887</th>\n",
       "      <td>long_email</td>\n",
       "      <td>generic</td>\n",
       "      <td>14</td>\n",
       "      <td>Monday</td>\n",
       "      <td>US</td>\n",
       "      <td>6</td>\n",
       "    </tr>\n",
       "  </tbody>\n",
       "</table>\n",
       "</div>"
      ],
      "text/plain": [
       "             is_short is_personalized  hour    weekday country  purchases\n",
       "email_id                                                                 \n",
       "85120     short_email    personalized     2     Sunday      US          5\n",
       "966622     long_email    personalized    12     Sunday      UK          2\n",
       "777221     long_email    personalized    11  Wednesday      US          2\n",
       "493711    short_email         generic     6     Monday      UK          1\n",
       "106887     long_email         generic    14     Monday      US          6"
      ]
     },
     "execution_count": 338,
     "metadata": {},
     "output_type": "execute_result"
    }
   ],
   "source": [
    "# rename long column names to shorter and understandable ones to make it easier to manipulation\n",
    "email.rename(columns = {'email_id':'id', 'email_text':'is_short', 'email_version':'is_personalized','user_country':'country', 'user_past_purchases':'purchases'},inplace=True)\n",
    "email.head()"
   ]
  },
  {
   "cell_type": "code",
   "execution_count": 8,
   "metadata": {},
   "outputs": [
    {
     "name": "stdout",
     "output_type": "stream",
     "text": [
      "<class 'pandas.core.frame.DataFrame'>\n",
      "Int64Index: 100000 entries, 85120 to 348333\n",
      "Data columns (total 6 columns):\n",
      " #   Column           Non-Null Count   Dtype \n",
      "---  ------           --------------   ----- \n",
      " 0   is_short         100000 non-null  object\n",
      " 1   is_personalized  100000 non-null  object\n",
      " 2   hour             100000 non-null  int64 \n",
      " 3   weekday          100000 non-null  object\n",
      " 4   country          100000 non-null  object\n",
      " 5   purchases        100000 non-null  int64 \n",
      "dtypes: int64(2), object(4)\n",
      "memory usage: 5.3+ MB\n"
     ]
    }
   ],
   "source": [
    "email.info()"
   ]
  },
  {
   "cell_type": "markdown",
   "metadata": {},
   "source": [
    "From the data information, it can be easily found that there are 6 features, two of which are numerical and the others are categorical. So I will firstly check the statistical information and types, respectively。"
   ]
  },
  {
   "cell_type": "code",
   "execution_count": 9,
   "metadata": {},
   "outputs": [
    {
     "data": {
      "text/html": [
       "<div>\n",
       "<style scoped>\n",
       "    .dataframe tbody tr th:only-of-type {\n",
       "        vertical-align: middle;\n",
       "    }\n",
       "\n",
       "    .dataframe tbody tr th {\n",
       "        vertical-align: top;\n",
       "    }\n",
       "\n",
       "    .dataframe thead th {\n",
       "        text-align: right;\n",
       "    }\n",
       "</style>\n",
       "<table border=\"1\" class=\"dataframe\">\n",
       "  <thead>\n",
       "    <tr style=\"text-align: right;\">\n",
       "      <th></th>\n",
       "      <th>hour</th>\n",
       "      <th>purchases</th>\n",
       "    </tr>\n",
       "  </thead>\n",
       "  <tbody>\n",
       "    <tr>\n",
       "      <th>count</th>\n",
       "      <td>100000.000000</td>\n",
       "      <td>100000.00000</td>\n",
       "    </tr>\n",
       "    <tr>\n",
       "      <th>mean</th>\n",
       "      <td>9.059300</td>\n",
       "      <td>3.87845</td>\n",
       "    </tr>\n",
       "    <tr>\n",
       "      <th>std</th>\n",
       "      <td>4.439637</td>\n",
       "      <td>3.19611</td>\n",
       "    </tr>\n",
       "    <tr>\n",
       "      <th>min</th>\n",
       "      <td>1.000000</td>\n",
       "      <td>0.00000</td>\n",
       "    </tr>\n",
       "    <tr>\n",
       "      <th>25%</th>\n",
       "      <td>6.000000</td>\n",
       "      <td>1.00000</td>\n",
       "    </tr>\n",
       "    <tr>\n",
       "      <th>50%</th>\n",
       "      <td>9.000000</td>\n",
       "      <td>3.00000</td>\n",
       "    </tr>\n",
       "    <tr>\n",
       "      <th>75%</th>\n",
       "      <td>12.000000</td>\n",
       "      <td>6.00000</td>\n",
       "    </tr>\n",
       "    <tr>\n",
       "      <th>max</th>\n",
       "      <td>24.000000</td>\n",
       "      <td>22.00000</td>\n",
       "    </tr>\n",
       "  </tbody>\n",
       "</table>\n",
       "</div>"
      ],
      "text/plain": [
       "                hour     purchases\n",
       "count  100000.000000  100000.00000\n",
       "mean        9.059300       3.87845\n",
       "std         4.439637       3.19611\n",
       "min         1.000000       0.00000\n",
       "25%         6.000000       1.00000\n",
       "50%         9.000000       3.00000\n",
       "75%        12.000000       6.00000\n",
       "max        24.000000      22.00000"
      ]
     },
     "execution_count": 9,
     "metadata": {},
     "output_type": "execute_result"
    }
   ],
   "source": [
    "# Check the numerical features\n",
    "email.describe()"
   ]
  },
  {
   "cell_type": "code",
   "execution_count": 11,
   "metadata": {},
   "outputs": [
    {
     "data": {
      "text/plain": [
       "[2, 2, 7, 4]"
      ]
     },
     "execution_count": 11,
     "metadata": {},
     "output_type": "execute_result"
    }
   ],
   "source": [
    "#check the categories in categorical features\n",
    "[email[x].nunique() for x in ['is_short','is_personalized','weekday','country']]"
   ]
  },
  {
   "cell_type": "code",
   "execution_count": 5,
   "metadata": {},
   "outputs": [
    {
     "data": {
      "text/html": [
       "<div>\n",
       "<style scoped>\n",
       "    .dataframe tbody tr th:only-of-type {\n",
       "        vertical-align: middle;\n",
       "    }\n",
       "\n",
       "    .dataframe tbody tr th {\n",
       "        vertical-align: top;\n",
       "    }\n",
       "\n",
       "    .dataframe thead th {\n",
       "        text-align: right;\n",
       "    }\n",
       "</style>\n",
       "<table border=\"1\" class=\"dataframe\">\n",
       "  <thead>\n",
       "    <tr style=\"text-align: right;\">\n",
       "      <th></th>\n",
       "      <th>email_id</th>\n",
       "    </tr>\n",
       "  </thead>\n",
       "  <tbody>\n",
       "    <tr>\n",
       "      <th>0</th>\n",
       "      <td>284534</td>\n",
       "    </tr>\n",
       "    <tr>\n",
       "      <th>1</th>\n",
       "      <td>609056</td>\n",
       "    </tr>\n",
       "    <tr>\n",
       "      <th>2</th>\n",
       "      <td>220820</td>\n",
       "    </tr>\n",
       "    <tr>\n",
       "      <th>3</th>\n",
       "      <td>905936</td>\n",
       "    </tr>\n",
       "    <tr>\n",
       "      <th>4</th>\n",
       "      <td>164034</td>\n",
       "    </tr>\n",
       "  </tbody>\n",
       "</table>\n",
       "</div>"
      ],
      "text/plain": [
       "   email_id\n",
       "0    284534\n",
       "1    609056\n",
       "2    220820\n",
       "3    905936\n",
       "4    164034"
      ]
     },
     "execution_count": 5,
     "metadata": {},
     "output_type": "execute_result"
    }
   ],
   "source": [
    "# read the data in another two tables\n",
    "open = pd.read_csv('C:/Users/xiaoj/Desktop/level 20 interview/email/email_opened_table.csv')\n",
    "open.head()"
   ]
  },
  {
   "cell_type": "code",
   "execution_count": 6,
   "metadata": {},
   "outputs": [
    {
     "data": {
      "text/html": [
       "<div>\n",
       "<style scoped>\n",
       "    .dataframe tbody tr th:only-of-type {\n",
       "        vertical-align: middle;\n",
       "    }\n",
       "\n",
       "    .dataframe tbody tr th {\n",
       "        vertical-align: top;\n",
       "    }\n",
       "\n",
       "    .dataframe thead th {\n",
       "        text-align: right;\n",
       "    }\n",
       "</style>\n",
       "<table border=\"1\" class=\"dataframe\">\n",
       "  <thead>\n",
       "    <tr style=\"text-align: right;\">\n",
       "      <th></th>\n",
       "      <th>email_id</th>\n",
       "    </tr>\n",
       "  </thead>\n",
       "  <tbody>\n",
       "    <tr>\n",
       "      <th>0</th>\n",
       "      <td>609056</td>\n",
       "    </tr>\n",
       "    <tr>\n",
       "      <th>1</th>\n",
       "      <td>870980</td>\n",
       "    </tr>\n",
       "    <tr>\n",
       "      <th>2</th>\n",
       "      <td>935124</td>\n",
       "    </tr>\n",
       "    <tr>\n",
       "      <th>3</th>\n",
       "      <td>158501</td>\n",
       "    </tr>\n",
       "    <tr>\n",
       "      <th>4</th>\n",
       "      <td>177561</td>\n",
       "    </tr>\n",
       "  </tbody>\n",
       "</table>\n",
       "</div>"
      ],
      "text/plain": [
       "   email_id\n",
       "0    609056\n",
       "1    870980\n",
       "2    935124\n",
       "3    158501\n",
       "4    177561"
      ]
     },
     "execution_count": 6,
     "metadata": {},
     "output_type": "execute_result"
    }
   ],
   "source": [
    "click = pd.read_csv('C:/Users/xiaoj/Desktop/level 20 interview/email/link_clicked_table.csv')\n",
    "click.head()"
   ]
  },
  {
   "cell_type": "markdown",
   "metadata": {},
   "source": [
    "I added a new feature in 'email' called 'reaction', which showed the customer's reactions to the link after they received the email."
   ]
  },
  {
   "cell_type": "code",
   "execution_count": 339,
   "metadata": {},
   "outputs": [
    {
     "data": {
      "text/html": [
       "<div>\n",
       "<style scoped>\n",
       "    .dataframe tbody tr th:only-of-type {\n",
       "        vertical-align: middle;\n",
       "    }\n",
       "\n",
       "    .dataframe tbody tr th {\n",
       "        vertical-align: top;\n",
       "    }\n",
       "\n",
       "    .dataframe thead th {\n",
       "        text-align: right;\n",
       "    }\n",
       "</style>\n",
       "<table border=\"1\" class=\"dataframe\">\n",
       "  <thead>\n",
       "    <tr style=\"text-align: right;\">\n",
       "      <th></th>\n",
       "      <th>is_short</th>\n",
       "      <th>is_personalized</th>\n",
       "      <th>hour</th>\n",
       "      <th>weekday</th>\n",
       "      <th>country</th>\n",
       "      <th>purchases</th>\n",
       "      <th>reaction</th>\n",
       "    </tr>\n",
       "    <tr>\n",
       "      <th>email_id</th>\n",
       "      <th></th>\n",
       "      <th></th>\n",
       "      <th></th>\n",
       "      <th></th>\n",
       "      <th></th>\n",
       "      <th></th>\n",
       "      <th></th>\n",
       "    </tr>\n",
       "  </thead>\n",
       "  <tbody>\n",
       "    <tr>\n",
       "      <th>85120</th>\n",
       "      <td>short_email</td>\n",
       "      <td>personalized</td>\n",
       "      <td>2</td>\n",
       "      <td>Sunday</td>\n",
       "      <td>US</td>\n",
       "      <td>5</td>\n",
       "      <td>received</td>\n",
       "    </tr>\n",
       "    <tr>\n",
       "      <th>966622</th>\n",
       "      <td>long_email</td>\n",
       "      <td>personalized</td>\n",
       "      <td>12</td>\n",
       "      <td>Sunday</td>\n",
       "      <td>UK</td>\n",
       "      <td>2</td>\n",
       "      <td>clicked</td>\n",
       "    </tr>\n",
       "    <tr>\n",
       "      <th>777221</th>\n",
       "      <td>long_email</td>\n",
       "      <td>personalized</td>\n",
       "      <td>11</td>\n",
       "      <td>Wednesday</td>\n",
       "      <td>US</td>\n",
       "      <td>2</td>\n",
       "      <td>received</td>\n",
       "    </tr>\n",
       "    <tr>\n",
       "      <th>493711</th>\n",
       "      <td>short_email</td>\n",
       "      <td>generic</td>\n",
       "      <td>6</td>\n",
       "      <td>Monday</td>\n",
       "      <td>UK</td>\n",
       "      <td>1</td>\n",
       "      <td>received</td>\n",
       "    </tr>\n",
       "    <tr>\n",
       "      <th>106887</th>\n",
       "      <td>long_email</td>\n",
       "      <td>generic</td>\n",
       "      <td>14</td>\n",
       "      <td>Monday</td>\n",
       "      <td>US</td>\n",
       "      <td>6</td>\n",
       "      <td>received</td>\n",
       "    </tr>\n",
       "  </tbody>\n",
       "</table>\n",
       "</div>"
      ],
      "text/plain": [
       "             is_short is_personalized  hour    weekday country  purchases  \\\n",
       "email_id                                                                    \n",
       "85120     short_email    personalized     2     Sunday      US          5   \n",
       "966622     long_email    personalized    12     Sunday      UK          2   \n",
       "777221     long_email    personalized    11  Wednesday      US          2   \n",
       "493711    short_email         generic     6     Monday      UK          1   \n",
       "106887     long_email         generic    14     Monday      US          6   \n",
       "\n",
       "          reaction  \n",
       "email_id            \n",
       "85120     received  \n",
       "966622     clicked  \n",
       "777221    received  \n",
       "493711    received  \n",
       "106887    received  "
      ]
     },
     "execution_count": 339,
     "metadata": {},
     "output_type": "execute_result"
    }
   ],
   "source": [
    "# add a new feature\n",
    "email['reaction'] = 'received'\n",
    "\n",
    "# according to the other two tables, specify the operations customers did \n",
    "email.loc[open['email_id'],'reaction'] = 'opened'\n",
    "email.loc[click['email_id'],'reaction'] = 'clicked'\n",
    "\n",
    "email.head()"
   ]
  },
  {
   "cell_type": "markdown",
   "metadata": {},
   "source": [
    "<a id='question1'></a>\n",
    "## Question 1\n",
    "What percentage of users opened the email and what percentage clicked on the link within the email?"
   ]
  },
  {
   "cell_type": "code",
   "execution_count": 17,
   "metadata": {},
   "outputs": [
    {
     "data": {
      "text/plain": [
       "received    0.89605\n",
       "opened      0.08276\n",
       "clicked     0.02119\n",
       "Name: reaction, dtype: float64"
      ]
     },
     "execution_count": 17,
     "metadata": {},
     "output_type": "execute_result"
    }
   ],
   "source": [
    "reaction = email['reaction'].value_counts(normalize = True)\n",
    "reaction"
   ]
  },
  {
   "cell_type": "markdown",
   "metadata": {},
   "source": [
    "It can be easily found that 10.39 %(opened + clicked)customers opened the email, and 2.12 % customers clicked the link."
   ]
  },
  {
   "cell_type": "code",
   "execution_count": 19,
   "metadata": {},
   "outputs": [
    {
     "name": "stdout",
     "output_type": "stream",
     "text": [
      "10.39% of users opened the email.\n",
      "2.12% of users clicked the link.\n"
     ]
    }
   ],
   "source": [
    "print(\"{:.2f}% of users opened the email.\".format((1 - reaction.received) * 100))\n",
    "print(\"{:.2f}% of users clicked the link.\".format(reaction.clicked * 100))"
   ]
  },
  {
   "cell_type": "code",
   "execution_count": 23,
   "metadata": {},
   "outputs": [
    {
     "data": {
      "text/plain": [
       "received         0.89605\n",
       "opened           0.08276\n",
       "clicked          0.02119\n",
       "total       100000.00000\n",
       "Name: reaction, dtype: float64"
      ]
     },
     "execution_count": 23,
     "metadata": {},
     "output_type": "execute_result"
    }
   ],
   "source": [
    "final_counts = email['reaction'].value_counts(normalize = True)\n",
    "final_counts['total'] = email.shape[0]\n",
    "final_counts.head()"
   ]
  },
  {
   "cell_type": "markdown",
   "metadata": {},
   "source": [
    "<a id='explorepattern'></a>\n",
    "## Explore Pattern for different segments of user "
   ]
  },
  {
   "cell_type": "markdown",
   "metadata": {},
   "source": [
    "<a id='chi2'></a>\n",
    "### Chi2-test\n",
    "Chi-square test can be performed to compare features, and find which are more important and related to the customers' reaction."
   ]
  },
  {
   "cell_type": "code",
   "execution_count": 201,
   "metadata": {},
   "outputs": [
    {
     "data": {
      "text/html": [
       "<div>\n",
       "<style scoped>\n",
       "    .dataframe tbody tr th:only-of-type {\n",
       "        vertical-align: middle;\n",
       "    }\n",
       "\n",
       "    .dataframe tbody tr th {\n",
       "        vertical-align: top;\n",
       "    }\n",
       "\n",
       "    .dataframe thead th {\n",
       "        text-align: right;\n",
       "    }\n",
       "</style>\n",
       "<table border=\"1\" class=\"dataframe\">\n",
       "  <thead>\n",
       "    <tr style=\"text-align: right;\">\n",
       "      <th></th>\n",
       "      <th>chi2score</th>\n",
       "    </tr>\n",
       "  </thead>\n",
       "  <tbody>\n",
       "    <tr>\n",
       "      <th>purchases</th>\n",
       "      <td>3448.795660</td>\n",
       "    </tr>\n",
       "    <tr>\n",
       "      <th>country</th>\n",
       "      <td>378.554465</td>\n",
       "    </tr>\n",
       "    <tr>\n",
       "      <th>is_personalized</th>\n",
       "      <td>316.752872</td>\n",
       "    </tr>\n",
       "    <tr>\n",
       "      <th>weekday</th>\n",
       "      <td>234.405864</td>\n",
       "    </tr>\n",
       "    <tr>\n",
       "      <th>hour</th>\n",
       "      <td>147.815921</td>\n",
       "    </tr>\n",
       "    <tr>\n",
       "      <th>is_short</th>\n",
       "      <td>81.527600</td>\n",
       "    </tr>\n",
       "  </tbody>\n",
       "</table>\n",
       "</div>"
      ],
      "text/plain": [
       "                   chi2score\n",
       "purchases        3448.795660\n",
       "country           378.554465\n",
       "is_personalized   316.752872\n",
       "weekday           234.405864\n",
       "hour              147.815921\n",
       "is_short           81.527600"
      ]
     },
     "execution_count": 201,
     "metadata": {},
     "output_type": "execute_result"
    }
   ],
   "source": [
    "# make a copy of the table and do Chi2-test\n",
    "X = email.copy()\n",
    "\n",
    "# labelencoder the categorical fields inside the table\n",
    "X['reaction'] = LabelEncoder().fit_transform(X['reaction'])\n",
    "X['is_short'] = LabelEncoder().fit_transform(X['is_short'])\n",
    "X['weekday'] = LabelEncoder().fit_transform(X['weekday'])\n",
    "X['is_personalized'] = LabelEncoder().fit_transform(X['is_personalized'])\n",
    "X['country'] = LabelEncoder().fit_transform(X['country'])\n",
    "\n",
    "# define the x and y for the chi2-test\n",
    "x = X.drop(columns='reaction')\n",
    "y = X['reaction']\n",
    "\n",
    "# chi2-test\n",
    "chi2score,pvalue = chi2(x,y)\n",
    "feature_chiscore = pd.DataFrame({'chi2score':chi2score},index = X.drop(columns='reaction').columns)\n",
    "feature_chiscore.sort_values(by='chi2score',ascending=False)"
   ]
  },
  {
   "cell_type": "markdown",
   "metadata": {},
   "source": [
    "From the **chi2** test, it can be fount that:\n",
    "- The most three important features that influence the customers' click rate is **purchases**(that is to say the customers' previous purchase experiences), **country**, **is_personalized**(if email is personalized);\n",
    "\n",
    "\n",
    "- The less features are weekday,hour and email length;\n",
    "\n",
    "Then I will explore the pattern on how the email campaign performed for different segment of users."
   ]
  },
  {
   "cell_type": "code",
   "execution_count": 214,
   "metadata": {},
   "outputs": [],
   "source": [
    "# define functions that can be generally applied to the various features when chek their influence on click rate\n",
    "def final_ratio(data):\n",
    "    final_counts = data['reaction'].value_counts(normalize = True)\n",
    "    return final_counts\n",
    "\n",
    "def feature_plot(feature):\n",
    "    feature_inf = email.groupby(feature).apply(final_ratio)\n",
    "    feature_inf.loc[:,['opened','clicked']].plot(kind='bar')\n",
    "    plt.ylabel('Click Ratio')\n",
    "    plt.xlabel(feature)\n",
    "    plt.xticks(rotation=0)\n",
    "    plt.title('Click Ratio vs. {}'.format(feature))\n",
    "    return feature_inf.sort_values(by=['clicked'],ascending = False)"
   ]
  },
  {
   "cell_type": "markdown",
   "metadata": {},
   "source": [
    "<a id='country'></a>\n",
    "### Country vs. Customers' reactions"
   ]
  },
  {
   "cell_type": "code",
   "execution_count": 215,
   "metadata": {},
   "outputs": [
    {
     "data": {
      "text/html": [
       "<div>\n",
       "<style scoped>\n",
       "    .dataframe tbody tr th:only-of-type {\n",
       "        vertical-align: middle;\n",
       "    }\n",
       "\n",
       "    .dataframe tbody tr th {\n",
       "        vertical-align: top;\n",
       "    }\n",
       "\n",
       "    .dataframe thead th {\n",
       "        text-align: right;\n",
       "    }\n",
       "</style>\n",
       "<table border=\"1\" class=\"dataframe\">\n",
       "  <thead>\n",
       "    <tr style=\"text-align: right;\">\n",
       "      <th>reaction</th>\n",
       "      <th>received</th>\n",
       "      <th>opened</th>\n",
       "      <th>clicked</th>\n",
       "    </tr>\n",
       "    <tr>\n",
       "      <th>country</th>\n",
       "      <th></th>\n",
       "      <th></th>\n",
       "      <th></th>\n",
       "    </tr>\n",
       "  </thead>\n",
       "  <tbody>\n",
       "    <tr>\n",
       "      <th>UK</th>\n",
       "      <td>0.879282</td>\n",
       "      <td>0.096043</td>\n",
       "      <td>0.024675</td>\n",
       "    </tr>\n",
       "    <tr>\n",
       "      <th>US</th>\n",
       "      <td>0.880481</td>\n",
       "      <td>0.095160</td>\n",
       "      <td>0.024360</td>\n",
       "    </tr>\n",
       "    <tr>\n",
       "      <th>ES</th>\n",
       "      <td>0.960570</td>\n",
       "      <td>0.031103</td>\n",
       "      <td>0.008327</td>\n",
       "    </tr>\n",
       "    <tr>\n",
       "      <th>FR</th>\n",
       "      <td>0.958779</td>\n",
       "      <td>0.033217</td>\n",
       "      <td>0.008004</td>\n",
       "    </tr>\n",
       "  </tbody>\n",
       "</table>\n",
       "</div>"
      ],
      "text/plain": [
       "reaction  received    opened   clicked\n",
       "country                               \n",
       "UK        0.879282  0.096043  0.024675\n",
       "US        0.880481  0.095160  0.024360\n",
       "ES        0.960570  0.031103  0.008327\n",
       "FR        0.958779  0.033217  0.008004"
      ]
     },
     "execution_count": 215,
     "metadata": {},
     "output_type": "execute_result"
    },
    {
     "data": {
      "image/png": "[encoded data removed]",
      "text/plain": [
       "<Figure size 720x360 with 1 Axes>"
      ]
     },
     "metadata": {
      "needs_background": "light"
     },
     "output_type": "display_data"
    }
   ],
   "source": [
    "# check if country has influence on click rate\n",
    "feature_plot('country')"
   ]
  },
  {
   "cell_type": "markdown",
   "metadata": {},
   "source": [
    "It can be easily found that both 'open' and 'click' percentage are much higher in UK and US than in France and Spain. \n",
    "\n",
    "This may be the translation issue. For English-speaking counties, the web are easier to understand. While for those non-English-speaking countries, the emails sent out are not as easy as native language to be readable, which cause low open and click percentages. "
   ]
  },
  {
   "cell_type": "markdown",
   "metadata": {},
   "source": [
    "<a id='emailpersonalized'></a>\n",
    "### Email personalized vs. Customers' reactions"
   ]
  },
  {
   "cell_type": "code",
   "execution_count": 216,
   "metadata": {},
   "outputs": [
    {
     "data": {
      "text/html": [
       "<div>\n",
       "<style scoped>\n",
       "    .dataframe tbody tr th:only-of-type {\n",
       "        vertical-align: middle;\n",
       "    }\n",
       "\n",
       "    .dataframe tbody tr th {\n",
       "        vertical-align: top;\n",
       "    }\n",
       "\n",
       "    .dataframe thead th {\n",
       "        text-align: right;\n",
       "    }\n",
       "</style>\n",
       "<table border=\"1\" class=\"dataframe\">\n",
       "  <thead>\n",
       "    <tr style=\"text-align: right;\">\n",
       "      <th>reaction</th>\n",
       "      <th>received</th>\n",
       "      <th>opened</th>\n",
       "      <th>clicked</th>\n",
       "    </tr>\n",
       "    <tr>\n",
       "      <th>is_personalized</th>\n",
       "      <th></th>\n",
       "      <th></th>\n",
       "      <th></th>\n",
       "    </tr>\n",
       "  </thead>\n",
       "  <tbody>\n",
       "    <tr>\n",
       "      <th>personalized</th>\n",
       "      <td>0.871864</td>\n",
       "      <td>0.100842</td>\n",
       "      <td>0.027294</td>\n",
       "    </tr>\n",
       "    <tr>\n",
       "      <th>generic</th>\n",
       "      <td>0.920034</td>\n",
       "      <td>0.064829</td>\n",
       "      <td>0.015137</td>\n",
       "    </tr>\n",
       "  </tbody>\n",
       "</table>\n",
       "</div>"
      ],
      "text/plain": [
       "reaction         received    opened   clicked\n",
       "is_personalized                              \n",
       "personalized     0.871864  0.100842  0.027294\n",
       "generic          0.920034  0.064829  0.015137"
      ]
     },
     "execution_count": 216,
     "metadata": {},
     "output_type": "execute_result"
    },
    {
     "data": {
      "image/png": "[encoded data removed]",
      "text/plain": [
       "<Figure size 720x360 with 1 Axes>"
      ]
     },
     "metadata": {
      "needs_background": "light"
     },
     "output_type": "display_data"
    }
   ],
   "source": [
    "# check if personlized email will produce more click rate\n",
    "feature_plot('is_personalized')"
   ]
  },
  {
   "cell_type": "markdown",
   "metadata": {},
   "source": [
    "It is easily to understand that personalized emails are more easier to be opened and clicked."
   ]
  },
  {
   "cell_type": "markdown",
   "metadata": {},
   "source": [
    "<a id='countrypersonalized'></a>\n",
    "### Country vs. Personalized vs. Customers' reactions"
   ]
  },
  {
   "cell_type": "code",
   "execution_count": 210,
   "metadata": {},
   "outputs": [
    {
     "name": "stderr",
     "output_type": "stream",
     "text": [
      "<ipython-input-210-7441a1905106>:3: SettingWithCopyWarning: \n",
      "A value is trying to be set on a copy of a slice from a DataFrame.\n",
      "Try using .loc[row_indexer,col_indexer] = value instead\n",
      "\n",
      "See the caveats in the documentation: https://pandas.pydata.org/pandas-docs/stable/user_guide/indexing.html#returning-a-view-versus-a-copy\n",
      "  country_personalized_click['per/gen']=round(country_personalized_click['personalized']/country_personalized_click['generic'],2)\n"
     ]
    },
    {
     "data": {
      "text/html": [
       "<div>\n",
       "<style scoped>\n",
       "    .dataframe tbody tr th:only-of-type {\n",
       "        vertical-align: middle;\n",
       "    }\n",
       "\n",
       "    .dataframe tbody tr th {\n",
       "        vertical-align: top;\n",
       "    }\n",
       "\n",
       "    .dataframe thead th {\n",
       "        text-align: right;\n",
       "    }\n",
       "</style>\n",
       "<table border=\"1\" class=\"dataframe\">\n",
       "  <thead>\n",
       "    <tr style=\"text-align: right;\">\n",
       "      <th>is_personalized</th>\n",
       "      <th>generic</th>\n",
       "      <th>personalized</th>\n",
       "      <th>per/gen</th>\n",
       "    </tr>\n",
       "    <tr>\n",
       "      <th>country</th>\n",
       "      <th></th>\n",
       "      <th></th>\n",
       "      <th></th>\n",
       "    </tr>\n",
       "  </thead>\n",
       "  <tbody>\n",
       "    <tr>\n",
       "      <th>FR</th>\n",
       "      <td>0.005365</td>\n",
       "      <td>0.010681</td>\n",
       "      <td>1.99</td>\n",
       "    </tr>\n",
       "    <tr>\n",
       "      <th>ES</th>\n",
       "      <td>0.005626</td>\n",
       "      <td>0.011022</td>\n",
       "      <td>1.96</td>\n",
       "    </tr>\n",
       "    <tr>\n",
       "      <th>US</th>\n",
       "      <td>0.017299</td>\n",
       "      <td>0.031507</td>\n",
       "      <td>1.82</td>\n",
       "    </tr>\n",
       "    <tr>\n",
       "      <th>UK</th>\n",
       "      <td>0.018262</td>\n",
       "      <td>0.031084</td>\n",
       "      <td>1.70</td>\n",
       "    </tr>\n",
       "  </tbody>\n",
       "</table>\n",
       "</div>"
      ],
      "text/plain": [
       "is_personalized   generic  personalized  per/gen\n",
       "country                                         \n",
       "FR               0.005365      0.010681     1.99\n",
       "ES               0.005626      0.011022     1.96\n",
       "US               0.017299      0.031507     1.82\n",
       "UK               0.018262      0.031084     1.70"
      ]
     },
     "execution_count": 210,
     "metadata": {},
     "output_type": "execute_result"
    }
   ],
   "source": [
    "country_personalized = email.groupby(['country',\"is_personalized\"]).apply(final_ratio).unstack()\n",
    "country_personalized_click = country_week.loc[:,'clicked']\n",
    "country_personalized_click['per/gen']=round(country_personalized_click['personalized']/country_personalized_click['generic'],2)\n",
    "country_personalized_click.sort_values(by='per/gen',ascending = False)"
   ]
  },
  {
   "cell_type": "markdown",
   "metadata": {},
   "source": [
    "The French and Spain prefered the personalized emails, especially the French showed the highest click-through-rate after opened the personalized email. People in US and UK didn't care this as much as french and spain did. But, personalized email do have better effect on click-through-rate in all countries."
   ]
  },
  {
   "cell_type": "markdown",
   "metadata": {},
   "source": [
    "<a id='purchasehistory'></a>\n",
    "### Purchase history vs. Customers' reactions"
   ]
  },
  {
   "cell_type": "code",
   "execution_count": 114,
   "metadata": {},
   "outputs": [
    {
     "data": {
      "text/plain": [
       "Text(0, 0.5, 'ratio')"
      ]
     },
     "execution_count": 114,
     "metadata": {},
     "output_type": "execute_result"
    },
    {
     "data": {
      "image/png": "[encoded data removed]",
      "text/plain": [
       "<Figure size 432x288 with 1 Axes>"
      ]
     },
     "metadata": {
      "needs_background": "light"
     },
     "output_type": "display_data"
    }
   ],
   "source": [
    "# check how users'past purchases influence the final click rate\n",
    "purchase_inf = email.groupby(\"purchases\").apply(final_ratio).unstack()\n",
    "#purchase_inf.fillna(value=0,inplace=True)\n",
    "\n",
    "purchase_inf.loc[:,[\"received\",\"opened\",'clicked']].plot(marker='o',markersize=5)\n",
    "plt.ylabel(\"ratio\")"
   ]
  },
  {
   "cell_type": "markdown",
   "metadata": {},
   "source": [
    "It can be found that although some of the data after customers have purchased many times are missing, the total trend is obvious.The more items a user purchased previously, the more likely that the user will open the email and further click the link. "
   ]
  },
  {
   "cell_type": "markdown",
   "metadata": {},
   "source": [
    "<a id='weekday'></a>\n",
    "### Weekday vs. Customers' reactions"
   ]
  },
  {
   "cell_type": "code",
   "execution_count": 217,
   "metadata": {
    "scrolled": true
   },
   "outputs": [
    {
     "data": {
      "text/html": [
       "<div>\n",
       "<style scoped>\n",
       "    .dataframe tbody tr th:only-of-type {\n",
       "        vertical-align: middle;\n",
       "    }\n",
       "\n",
       "    .dataframe tbody tr th {\n",
       "        vertical-align: top;\n",
       "    }\n",
       "\n",
       "    .dataframe thead th {\n",
       "        text-align: right;\n",
       "    }\n",
       "</style>\n",
       "<table border=\"1\" class=\"dataframe\">\n",
       "  <thead>\n",
       "    <tr style=\"text-align: right;\">\n",
       "      <th>reaction</th>\n",
       "      <th>received</th>\n",
       "      <th>opened</th>\n",
       "      <th>clicked</th>\n",
       "    </tr>\n",
       "    <tr>\n",
       "      <th>weekday</th>\n",
       "      <th></th>\n",
       "      <th></th>\n",
       "      <th></th>\n",
       "    </tr>\n",
       "  </thead>\n",
       "  <tbody>\n",
       "    <tr>\n",
       "      <th>Wednesday</th>\n",
       "      <td>0.879296</td>\n",
       "      <td>0.093084</td>\n",
       "      <td>0.027620</td>\n",
       "    </tr>\n",
       "    <tr>\n",
       "      <th>Tuesday</th>\n",
       "      <td>0.879092</td>\n",
       "      <td>0.096019</td>\n",
       "      <td>0.024889</td>\n",
       "    </tr>\n",
       "    <tr>\n",
       "      <th>Thursday</th>\n",
       "      <td>0.881348</td>\n",
       "      <td>0.094207</td>\n",
       "      <td>0.024445</td>\n",
       "    </tr>\n",
       "    <tr>\n",
       "      <th>Monday</th>\n",
       "      <td>0.883590</td>\n",
       "      <td>0.093504</td>\n",
       "      <td>0.022906</td>\n",
       "    </tr>\n",
       "    <tr>\n",
       "      <th>Saturday</th>\n",
       "      <td>0.912005</td>\n",
       "      <td>0.070149</td>\n",
       "      <td>0.017846</td>\n",
       "    </tr>\n",
       "    <tr>\n",
       "      <th>Sunday</th>\n",
       "      <td>0.911448</td>\n",
       "      <td>0.071801</td>\n",
       "      <td>0.016751</td>\n",
       "    </tr>\n",
       "    <tr>\n",
       "      <th>Friday</th>\n",
       "      <td>0.925019</td>\n",
       "      <td>0.060944</td>\n",
       "      <td>0.014037</td>\n",
       "    </tr>\n",
       "  </tbody>\n",
       "</table>\n",
       "</div>"
      ],
      "text/plain": [
       "reaction   received    opened   clicked\n",
       "weekday                                \n",
       "Wednesday  0.879296  0.093084  0.027620\n",
       "Tuesday    0.879092  0.096019  0.024889\n",
       "Thursday   0.881348  0.094207  0.024445\n",
       "Monday     0.883590  0.093504  0.022906\n",
       "Saturday   0.912005  0.070149  0.017846\n",
       "Sunday     0.911448  0.071801  0.016751\n",
       "Friday     0.925019  0.060944  0.014037"
      ]
     },
     "execution_count": 217,
     "metadata": {},
     "output_type": "execute_result"
    },
    {
     "data": {
      "image/png": "[encoded data removed]",
      "text/plain": [
       "<Figure size 720x360 with 1 Axes>"
      ]
     },
     "metadata": {
      "needs_background": "light"
     },
     "output_type": "display_data"
    }
   ],
   "source": [
    "# check if weekday has relationship with click rate\n",
    "feature_plot('weekday')"
   ]
  },
  {
   "cell_type": "markdown",
   "metadata": {},
   "source": [
    "It can be found from above figure that Fiday, Satuday, Sunday have obviously lower 'open' and 'click' percentage than the other days. "
   ]
  },
  {
   "cell_type": "markdown",
   "metadata": {},
   "source": [
    "<a id='countryweekday'></a>\n",
    "### Country vs. Weekday vs. Customers' reactions"
   ]
  },
  {
   "cell_type": "code",
   "execution_count": 220,
   "metadata": {},
   "outputs": [
    {
     "data": {
      "text/plain": [
       "(array([0, 1, 2, 3, 4, 5, 6]), <a list of 7 Text major ticklabel objects>)"
      ]
     },
     "execution_count": 220,
     "metadata": {},
     "output_type": "execute_result"
    },
    {
     "data": {
      "image/png": "[encoded data removed]",
      "text/plain": [
       "<Figure size 720x360 with 1 Axes>"
      ]
     },
     "metadata": {
      "needs_background": "light"
     },
     "output_type": "display_data"
    }
   ],
   "source": [
    "country_week = email.groupby(['country',\"weekday\"]).apply(final_ratio).unstack()\n",
    "country_week = country_week.loc[:,'clicked']\n",
    "\n",
    "country_week.T.plot(kind='bar')\n",
    "plt.xticks(rotation=0)"
   ]
  },
  {
   "cell_type": "markdown",
   "metadata": {},
   "source": [
    "After segmenting the customers by country, it can be found that basically all countries showed lowest click-through-rate from Friday to Sunday. But for different countrires the specific lowest and highest click rate occurred on different days."
   ]
  },
  {
   "cell_type": "markdown",
   "metadata": {},
   "source": [
    "<a id='sendinghour'></a>\n",
    "### Sending hour vs. Customers' reactions"
   ]
  },
  {
   "cell_type": "code",
   "execution_count": 169,
   "metadata": {},
   "outputs": [
    {
     "data": {
      "text/plain": [
       "Text(0, 0.5, 'ratio')"
      ]
     },
     "execution_count": 169,
     "metadata": {},
     "output_type": "execute_result"
    },
    {
     "data": {
      "image/png": "[encoded data removed]",
      "text/plain": [
       "<Figure size 720x360 with 1 Axes>"
      ]
     },
     "metadata": {
      "needs_background": "light"
     },
     "output_type": "display_data"
    }
   ],
   "source": [
    "# check if sending time has relationship with click rate\n",
    "plt.rc('figure', figsize=(10, 5))\n",
    "hour_inf = email.groupby(\"hour\").apply(final_ratio).unstack()\n",
    "hour_inf.loc[:,[\"received\",\"opened\",'clicked']].plot(marker='o',markersize=5)\n",
    "plt.ylabel(\"ratio\")"
   ]
  },
  {
   "cell_type": "markdown",
   "metadata": {},
   "source": [
    "It can be found that sending hour has some impact on the click through rate after 10.00p.m.. "
   ]
  },
  {
   "cell_type": "markdown",
   "metadata": {},
   "source": [
    "<a id='countrysendinghour'></a>\n",
    "### Country vs. Sending hour vs. Customers' reactions"
   ]
  },
  {
   "cell_type": "code",
   "execution_count": 173,
   "metadata": {},
   "outputs": [
    {
     "data": {
      "text/plain": [
       "Text(0, 0.5, 'ratio')"
      ]
     },
     "execution_count": 173,
     "metadata": {},
     "output_type": "execute_result"
    },
    {
     "data": {
      "image/png": "[encoded data removed]",
      "text/plain": [
       "<Figure size 720x360 with 1 Axes>"
      ]
     },
     "metadata": {
      "needs_background": "light"
     },
     "output_type": "display_data"
    }
   ],
   "source": [
    "# check if sending time has relationship with click rate\n",
    "country_hour = email.groupby(['country',\"hour\"]).apply(final_ratio).unstack()\n",
    "country_hour.loc[:,'clicked'].unstack().T.plot(kind='line',marker='o',markersize=5)\n",
    "plt.ylabel(\"ratio\")"
   ]
  },
  {
   "cell_type": "markdown",
   "metadata": {},
   "source": [
    "After segmenting users by country, it is easily to find that actually the open and click data after 10:00 p. m.are missing. So, the values we observed in the previous \"Sending hour vs. Customers' reactions\" are averged from received, open and click. The fact is that there are no data to show how the click rate changed. Based on the chi2 test results,the 'hour' feature will not be included in the later model. "
   ]
  },
  {
   "cell_type": "markdown",
   "metadata": {},
   "source": [
    "<a id='emaillength'></a>\n",
    "### Email length vs. Customers' reaction"
   ]
  },
  {
   "cell_type": "code",
   "execution_count": 126,
   "metadata": {},
   "outputs": [
    {
     "data": {
      "text/html": [
       "<div>\n",
       "<style scoped>\n",
       "    .dataframe tbody tr th:only-of-type {\n",
       "        vertical-align: middle;\n",
       "    }\n",
       "\n",
       "    .dataframe tbody tr th {\n",
       "        vertical-align: top;\n",
       "    }\n",
       "\n",
       "    .dataframe thead th {\n",
       "        text-align: right;\n",
       "    }\n",
       "</style>\n",
       "<table border=\"1\" class=\"dataframe\">\n",
       "  <thead>\n",
       "    <tr style=\"text-align: right;\">\n",
       "      <th>reaction</th>\n",
       "      <th>received</th>\n",
       "      <th>opened</th>\n",
       "      <th>clicked</th>\n",
       "      <th>click:open</th>\n",
       "    </tr>\n",
       "    <tr>\n",
       "      <th>is_short</th>\n",
       "      <th></th>\n",
       "      <th></th>\n",
       "      <th></th>\n",
       "      <th></th>\n",
       "    </tr>\n",
       "  </thead>\n",
       "  <tbody>\n",
       "    <tr>\n",
       "      <th>short_email</th>\n",
       "      <td>0.883698</td>\n",
       "      <td>0.092430</td>\n",
       "      <td>0.023872</td>\n",
       "      <td>0.21</td>\n",
       "    </tr>\n",
       "    <tr>\n",
       "      <th>long_email</th>\n",
       "      <td>0.908266</td>\n",
       "      <td>0.073196</td>\n",
       "      <td>0.018538</td>\n",
       "      <td>0.20</td>\n",
       "    </tr>\n",
       "  </tbody>\n",
       "</table>\n",
       "</div>"
      ],
      "text/plain": [
       "reaction     received    opened   clicked  click:open\n",
       "is_short                                             \n",
       "short_email  0.883698  0.092430  0.023872        0.21\n",
       "long_email   0.908266  0.073196  0.018538        0.20"
      ]
     },
     "execution_count": 126,
     "metadata": {},
     "output_type": "execute_result"
    },
    {
     "data": {
      "image/png": "[encoded data removed]",
      "text/plain": [
       "<Figure size 432x288 with 1 Axes>"
      ]
     },
     "metadata": {
      "needs_background": "light"
     },
     "output_type": "display_data"
    }
   ],
   "source": [
    "# check if 'email text' is short has influence on final click rate\n",
    "feature_plot('is_short')"
   ]
  },
  {
   "cell_type": "markdown",
   "metadata": {},
   "source": [
    "It can be found that if without considering other factors, short emails do lead to higher click through rate."
   ]
  },
  {
   "cell_type": "markdown",
   "metadata": {},
   "source": [
    "<a id='countrylength'></a>\n",
    "### Country vs. Email Length vs. Customers' reactions"
   ]
  },
  {
   "cell_type": "code",
   "execution_count": 229,
   "metadata": {},
   "outputs": [
    {
     "data": {
      "text/html": [
       "<div>\n",
       "<style scoped>\n",
       "    .dataframe tbody tr th:only-of-type {\n",
       "        vertical-align: middle;\n",
       "    }\n",
       "\n",
       "    .dataframe tbody tr th {\n",
       "        vertical-align: top;\n",
       "    }\n",
       "\n",
       "    .dataframe thead th {\n",
       "        text-align: right;\n",
       "    }\n",
       "</style>\n",
       "<table border=\"1\" class=\"dataframe\">\n",
       "  <thead>\n",
       "    <tr style=\"text-align: right;\">\n",
       "      <th>is_short</th>\n",
       "      <th>long_email</th>\n",
       "      <th>short_email</th>\n",
       "      <th>short/long</th>\n",
       "    </tr>\n",
       "    <tr>\n",
       "      <th>country</th>\n",
       "      <th></th>\n",
       "      <th></th>\n",
       "      <th></th>\n",
       "    </tr>\n",
       "  </thead>\n",
       "  <tbody>\n",
       "    <tr>\n",
       "      <th>FR</th>\n",
       "      <td>0.006380</td>\n",
       "      <td>0.009640</td>\n",
       "      <td>1.51</td>\n",
       "    </tr>\n",
       "    <tr>\n",
       "      <th>UK</th>\n",
       "      <td>0.021277</td>\n",
       "      <td>0.028135</td>\n",
       "      <td>1.32</td>\n",
       "    </tr>\n",
       "    <tr>\n",
       "      <th>US</th>\n",
       "      <td>0.021274</td>\n",
       "      <td>0.027481</td>\n",
       "      <td>1.29</td>\n",
       "    </tr>\n",
       "    <tr>\n",
       "      <th>ES</th>\n",
       "      <td>0.008638</td>\n",
       "      <td>0.008018</td>\n",
       "      <td>0.93</td>\n",
       "    </tr>\n",
       "  </tbody>\n",
       "</table>\n",
       "</div>"
      ],
      "text/plain": [
       "is_short  long_email  short_email  short/long\n",
       "country                                      \n",
       "FR          0.006380     0.009640        1.51\n",
       "UK          0.021277     0.028135        1.32\n",
       "US          0.021274     0.027481        1.29\n",
       "ES          0.008638     0.008018        0.93"
      ]
     },
     "execution_count": 229,
     "metadata": {},
     "output_type": "execute_result"
    }
   ],
   "source": [
    "country_length = email.groupby(['country','is_short'])['reaction'].value_counts(normalize = True).unstack()\n",
    "country_length = country_length.loc[:,'clicked'].unstack()\n",
    "country_length['short/long'] = round(country_length['short_email'] / country_length['long_email'], 2)\n",
    "country_length.sort_values(by='short/long', ascending = False)"
   ]
  },
  {
   "cell_type": "markdown",
   "metadata": {},
   "source": [
    "After segmenting the customers by country, it can be found that the French like the short email than other countries. The click rate of short emails are about 1.5 times higher than that of long emails. However, from the previous chi2 test, we know the the email length is one of the least important features, which means the the effect of email lenghth can be ignored."
   ]
  },
  {
   "cell_type": "markdown",
   "metadata": {},
   "source": [
    "<a id='question2'></a>\n",
    "## Question 2\n",
    "For different segments of users, is there any pattern on how the email campaign performed?\n",
    "\n",
    "- The more items people bought in the past, the more likely that users will click the link inside the email;\n",
    "\n",
    "\n",
    "- UK and US has obviously higher click rates compared to the other two countries;\n",
    "\n",
    "\n",
    "- People prefer short emails which induce higher click rate. People prefer simple and shorter sensences to save their time and energy;\n",
    "\n",
    "\n",
    "- Personliazed email do has great infulence on click-through-rate. The French and Spain especially care about this than the people in US and UK;\n",
    "\n",
    "\n",
    "- Emails sent at weekend(Friday, Saturday and Sunday) are less likely to be opened and clicked;"
   ]
  },
  {
   "cell_type": "markdown",
   "metadata": {},
   "source": [
    "<a id='build'></a>\n",
    "## Build Predictive Model\n",
    "Build a model to predict whether a user will open the email and click the link inside it. Then try to maximize the probability of users clicking on the link by using this model."
   ]
  },
  {
   "cell_type": "markdown",
   "metadata": {},
   "source": [
    "<a id='prepare'></a>\n",
    "### Prepare the data"
   ]
  },
  {
   "cell_type": "code",
   "execution_count": 497,
   "metadata": {},
   "outputs": [
    {
     "data": {
      "text/html": [
       "<div>\n",
       "<style scoped>\n",
       "    .dataframe tbody tr th:only-of-type {\n",
       "        vertical-align: middle;\n",
       "    }\n",
       "\n",
       "    .dataframe tbody tr th {\n",
       "        vertical-align: top;\n",
       "    }\n",
       "\n",
       "    .dataframe thead th {\n",
       "        text-align: right;\n",
       "    }\n",
       "</style>\n",
       "<table border=\"1\" class=\"dataframe\">\n",
       "  <thead>\n",
       "    <tr style=\"text-align: right;\">\n",
       "      <th></th>\n",
       "      <th>is_short</th>\n",
       "      <th>is_personalized</th>\n",
       "      <th>hour</th>\n",
       "      <th>weekday</th>\n",
       "      <th>country</th>\n",
       "      <th>purchases</th>\n",
       "      <th>reaction</th>\n",
       "    </tr>\n",
       "    <tr>\n",
       "      <th>email_id</th>\n",
       "      <th></th>\n",
       "      <th></th>\n",
       "      <th></th>\n",
       "      <th></th>\n",
       "      <th></th>\n",
       "      <th></th>\n",
       "      <th></th>\n",
       "    </tr>\n",
       "  </thead>\n",
       "  <tbody>\n",
       "    <tr>\n",
       "      <th>85120</th>\n",
       "      <td>short_email</td>\n",
       "      <td>personalized</td>\n",
       "      <td>2</td>\n",
       "      <td>Sunday</td>\n",
       "      <td>US</td>\n",
       "      <td>5</td>\n",
       "      <td>received</td>\n",
       "    </tr>\n",
       "    <tr>\n",
       "      <th>966622</th>\n",
       "      <td>long_email</td>\n",
       "      <td>personalized</td>\n",
       "      <td>12</td>\n",
       "      <td>Sunday</td>\n",
       "      <td>UK</td>\n",
       "      <td>2</td>\n",
       "      <td>clicked</td>\n",
       "    </tr>\n",
       "    <tr>\n",
       "      <th>777221</th>\n",
       "      <td>long_email</td>\n",
       "      <td>personalized</td>\n",
       "      <td>11</td>\n",
       "      <td>Wednesday</td>\n",
       "      <td>US</td>\n",
       "      <td>2</td>\n",
       "      <td>received</td>\n",
       "    </tr>\n",
       "    <tr>\n",
       "      <th>493711</th>\n",
       "      <td>short_email</td>\n",
       "      <td>generic</td>\n",
       "      <td>6</td>\n",
       "      <td>Monday</td>\n",
       "      <td>UK</td>\n",
       "      <td>1</td>\n",
       "      <td>received</td>\n",
       "    </tr>\n",
       "    <tr>\n",
       "      <th>106887</th>\n",
       "      <td>long_email</td>\n",
       "      <td>generic</td>\n",
       "      <td>14</td>\n",
       "      <td>Monday</td>\n",
       "      <td>US</td>\n",
       "      <td>6</td>\n",
       "      <td>received</td>\n",
       "    </tr>\n",
       "  </tbody>\n",
       "</table>\n",
       "</div>"
      ],
      "text/plain": [
       "             is_short is_personalized  hour    weekday country  purchases  \\\n",
       "email_id                                                                    \n",
       "85120     short_email    personalized     2     Sunday      US          5   \n",
       "966622     long_email    personalized    12     Sunday      UK          2   \n",
       "777221     long_email    personalized    11  Wednesday      US          2   \n",
       "493711    short_email         generic     6     Monday      UK          1   \n",
       "106887     long_email         generic    14     Monday      US          6   \n",
       "\n",
       "          reaction  \n",
       "email_id            \n",
       "85120     received  \n",
       "966622     clicked  \n",
       "777221    received  \n",
       "493711    received  \n",
       "106887    received  "
      ]
     },
     "execution_count": 497,
     "metadata": {},
     "output_type": "execute_result"
    }
   ],
   "source": [
    "# cope the originial data and create a new one\n",
    "z = email.copy()\n",
    "z.head()"
   ]
  },
  {
   "cell_type": "code",
   "execution_count": 498,
   "metadata": {},
   "outputs": [],
   "source": [
    "# labelencoder the categorical fields inside the table\n",
    "z['is_short'] = LabelEncoder().fit_transform(z['is_short'])\n",
    "z['is_personalized'] = LabelEncoder().fit_transform(z['is_personalized'])\n",
    "\n",
    "# to category if weekend or not\n",
    "z['weekday'] = LabelEncoder().fit_transform(z['weekday'])\n",
    "z['weekday'] = (z['weekday']>=4).astype(int)\n",
    "\n",
    "z = pd.get_dummies(z,columns=['country'])\n",
    "\n",
    "\n",
    "# define the x and y \n",
    "x = z.drop(columns=['reaction','hour'])\n",
    "y = (email['reaction']=='clicked').astype(int)"
   ]
  },
  {
   "cell_type": "code",
   "execution_count": 499,
   "metadata": {},
   "outputs": [
    {
     "name": "stdout",
     "output_type": "stream",
     "text": [
      "Train positive ratio=0.021\n",
      "Test positive ratio=0.021\n"
     ]
    }
   ],
   "source": [
    "xtrain, xtest, ytrain, ytest = train_test_split(x, y, test_size=0.33, random_state=42,stratify=y)\n",
    "print('Train positive ratio={:.3f}'.format(ytrain1.mean()))\n",
    "print('Test positive ratio={:.3f}'.format(ytest1.mean()))"
   ]
  },
  {
   "cell_type": "markdown",
   "metadata": {},
   "source": [
    "From the above results, it can be found it's an imbalanced data."
   ]
  },
  {
   "cell_type": "markdown",
   "metadata": {},
   "source": [
    "<a id='train'></a>\n",
    "### Train the model"
   ]
  },
  {
   "cell_type": "code",
   "execution_count": 500,
   "metadata": {},
   "outputs": [],
   "source": [
    "train_matrix = xgb.DMatrix(xtrain, ytrain)\n",
    "test_matrix = xgb.DMatrix(xtest)"
   ]
  },
  {
   "cell_type": "code",
   "execution_count": 501,
   "metadata": {},
   "outputs": [
    {
     "name": "stdout",
     "output_type": "stream",
     "text": [
      "[0]\ttrain-auc:0.73698+0.00196\ttest-auc:0.71653+0.00950\n",
      "[1]\ttrain-auc:0.74254+0.00209\ttest-auc:0.72315+0.01189\n",
      "[2]\ttrain-auc:0.74636+0.00184\ttest-auc:0.72561+0.01183\n",
      "[3]\ttrain-auc:0.74846+0.00192\ttest-auc:0.72843+0.01159\n",
      "[4]\ttrain-auc:0.74986+0.00388\ttest-auc:0.73099+0.00887\n",
      "[5]\ttrain-auc:0.75051+0.00456\ttest-auc:0.73146+0.00874\n",
      "[6]\ttrain-auc:0.75072+0.00633\ttest-auc:0.73066+0.00694\n",
      "[7]\ttrain-auc:0.75240+0.00400\ttest-auc:0.73135+0.00871\n",
      "[8]\ttrain-auc:0.75355+0.00310\ttest-auc:0.73273+0.00851\n",
      "[9]\ttrain-auc:0.75405+0.00287\ttest-auc:0.73270+0.00833\n",
      "[10]\ttrain-auc:0.75409+0.00229\ttest-auc:0.73238+0.00837\n",
      "[11]\ttrain-auc:0.75442+0.00154\ttest-auc:0.73274+0.00871\n",
      "[12]\ttrain-auc:0.75484+0.00189\ttest-auc:0.73318+0.00827\n",
      "[13]\ttrain-auc:0.75566+0.00181\ttest-auc:0.73423+0.00828\n",
      "[14]\ttrain-auc:0.75554+0.00189\ttest-auc:0.73368+0.00841\n",
      "[15]\ttrain-auc:0.75596+0.00170\ttest-auc:0.73405+0.00852\n",
      "[16]\ttrain-auc:0.75590+0.00159\ttest-auc:0.73379+0.00907\n",
      "[17]\ttrain-auc:0.75633+0.00168\ttest-auc:0.73431+0.00879\n",
      "[18]\ttrain-auc:0.75652+0.00159\ttest-auc:0.73428+0.00872\n",
      "[19]\ttrain-auc:0.75631+0.00147\ttest-auc:0.73376+0.00920\n",
      "[20]\ttrain-auc:0.75668+0.00183\ttest-auc:0.73413+0.00848\n",
      "[21]\ttrain-auc:0.75684+0.00174\ttest-auc:0.73410+0.00832\n",
      "[22]\ttrain-auc:0.75677+0.00178\ttest-auc:0.73443+0.00833\n",
      "[23]\ttrain-auc:0.75683+0.00204\ttest-auc:0.73469+0.00831\n",
      "[24]\ttrain-auc:0.75683+0.00211\ttest-auc:0.73480+0.00850\n",
      "[25]\ttrain-auc:0.75717+0.00212\ttest-auc:0.73479+0.00858\n",
      "[26]\ttrain-auc:0.75731+0.00226\ttest-auc:0.73464+0.00850\n",
      "[27]\ttrain-auc:0.75744+0.00233\ttest-auc:0.73456+0.00855\n",
      "[28]\ttrain-auc:0.75753+0.00251\ttest-auc:0.73485+0.00855\n",
      "[29]\ttrain-auc:0.75786+0.00227\ttest-auc:0.73477+0.00816\n",
      "[30]\ttrain-auc:0.75806+0.00226\ttest-auc:0.73496+0.00823\n",
      "[31]\ttrain-auc:0.75827+0.00215\ttest-auc:0.73496+0.00819\n",
      "[32]\ttrain-auc:0.75837+0.00206\ttest-auc:0.73494+0.00832\n",
      "[33]\ttrain-auc:0.75835+0.00216\ttest-auc:0.73479+0.00829\n",
      "[34]\ttrain-auc:0.75841+0.00232\ttest-auc:0.73496+0.00834\n",
      "[35]\ttrain-auc:0.75853+0.00227\ttest-auc:0.73474+0.00838\n",
      "[36]\ttrain-auc:0.75864+0.00239\ttest-auc:0.73472+0.00834\n",
      "[37]\ttrain-auc:0.75884+0.00239\ttest-auc:0.73483+0.00831\n",
      "[38]\ttrain-auc:0.75902+0.00232\ttest-auc:0.73487+0.00840\n",
      "[39]\ttrain-auc:0.75918+0.00236\ttest-auc:0.73475+0.00862\n",
      "[40]\ttrain-auc:0.75917+0.00229\ttest-auc:0.73473+0.00859\n",
      "[41]\ttrain-auc:0.75920+0.00226\ttest-auc:0.73478+0.00871\n",
      "[42]\ttrain-auc:0.75934+0.00231\ttest-auc:0.73437+0.00883\n",
      "[43]\ttrain-auc:0.75948+0.00230\ttest-auc:0.73447+0.00879\n",
      "[44]\ttrain-auc:0.75953+0.00227\ttest-auc:0.73440+0.00882\n",
      "[45]\ttrain-auc:0.75962+0.00232\ttest-auc:0.73447+0.00890\n",
      "[46]\ttrain-auc:0.75983+0.00224\ttest-auc:0.73434+0.00923\n",
      "[47]\ttrain-auc:0.75993+0.00220\ttest-auc:0.73435+0.00920\n",
      "[48]\ttrain-auc:0.76007+0.00222\ttest-auc:0.73434+0.00915\n",
      "[49]\ttrain-auc:0.76019+0.00216\ttest-auc:0.73454+0.00925\n",
      "[50]\ttrain-auc:0.76030+0.00218\ttest-auc:0.73432+0.00903\n",
      "[51]\ttrain-auc:0.76030+0.00217\ttest-auc:0.73419+0.00902\n",
      "[52]\ttrain-auc:0.76034+0.00209\ttest-auc:0.73420+0.00908\n",
      "[53]\ttrain-auc:0.76048+0.00218\ttest-auc:0.73415+0.00912\n",
      "[54]\ttrain-auc:0.76050+0.00224\ttest-auc:0.73399+0.00914\n",
      "[55]\ttrain-auc:0.76075+0.00230\ttest-auc:0.73380+0.00906\n",
      "[56]\ttrain-auc:0.76084+0.00236\ttest-auc:0.73357+0.00925\n",
      "[57]\ttrain-auc:0.76090+0.00242\ttest-auc:0.73364+0.00924\n",
      "[58]\ttrain-auc:0.76107+0.00234\ttest-auc:0.73351+0.00934\n",
      "[59]\ttrain-auc:0.76121+0.00230\ttest-auc:0.73357+0.00932\n"
     ]
    }
   ],
   "source": [
    "params = {'eta':0.1,\n",
    "          'subsample':0.8,\n",
    "          'max_depth':6,\n",
    "          'colsample_bytree':0.8,\n",
    "          'scale_pos_weight':7,\n",
    "          'objective':'binary:logistic',\n",
    "          'eval_metric':'auc'}\n",
    "cv_result=xgb.cv(params, \n",
    "       train_matrix, \n",
    "       num_boost_round=300, \n",
    "       nfold=5, \n",
    "       early_stopping_rounds=30, \n",
    "       seed=42,\n",
    "       verbose_eval=True)"
   ]
  },
  {
   "cell_type": "code",
   "execution_count": 502,
   "metadata": {},
   "outputs": [
    {
     "data": {
      "text/plain": [
       "31"
      ]
     },
     "execution_count": 502,
     "metadata": {},
     "output_type": "execute_result"
    }
   ],
   "source": [
    "n_best_trees = cv_result.shape[0]\n",
    "n_best_trees"
   ]
  },
  {
   "cell_type": "code",
   "execution_count": 503,
   "metadata": {},
   "outputs": [
    {
     "name": "stdout",
     "output_type": "stream",
     "text": [
      "[0]\ttrain-auc:0.73300\n",
      "[1]\ttrain-auc:0.73916\n",
      "[2]\ttrain-auc:0.74269\n",
      "[3]\ttrain-auc:0.74555\n",
      "[4]\ttrain-auc:0.74762\n",
      "[5]\ttrain-auc:0.74856\n",
      "[6]\ttrain-auc:0.74931\n",
      "[7]\ttrain-auc:0.74966\n",
      "[8]\ttrain-auc:0.75019\n",
      "[9]\ttrain-auc:0.75175\n",
      "[10]\ttrain-auc:0.75154\n",
      "[11]\ttrain-auc:0.75175\n",
      "[12]\ttrain-auc:0.75210\n",
      "[13]\ttrain-auc:0.75227\n",
      "[14]\ttrain-auc:0.75215\n",
      "[15]\ttrain-auc:0.75272\n",
      "[16]\ttrain-auc:0.75311\n",
      "[17]\ttrain-auc:0.75347\n",
      "[18]\ttrain-auc:0.75363\n",
      "[19]\ttrain-auc:0.75368\n",
      "[20]\ttrain-auc:0.75368\n",
      "[21]\ttrain-auc:0.75381\n",
      "[22]\ttrain-auc:0.75402\n",
      "[23]\ttrain-auc:0.75392\n",
      "[24]\ttrain-auc:0.75413\n",
      "[25]\ttrain-auc:0.75436\n",
      "[26]\ttrain-auc:0.75465\n",
      "[27]\ttrain-auc:0.75438\n",
      "[28]\ttrain-auc:0.75444\n",
      "[29]\ttrain-auc:0.75440\n",
      "[30]\ttrain-auc:0.75460\n"
     ]
    }
   ],
   "source": [
    "watchlist=[(train_matrix,'train')]\n",
    "gbt = xgb.train(params,train_matrix,cv_result.shape[0],watchlist)"
   ]
  },
  {
   "cell_type": "markdown",
   "metadata": {},
   "source": [
    "<a id='plot'></a>\n",
    "### Plot ROC curve and choose probability threshold\n",
    "Since the data is highly imbalanced,if using default probability threshold(0.5), the model will classify every example as negative. So a better probability threshold should be chosen."
   ]
  },
  {
   "cell_type": "code",
   "execution_count": 504,
   "metadata": {},
   "outputs": [
    {
     "name": "stdout",
     "output_type": "stream",
     "text": [
      "n_best_trees=31,xgboost parameters: \n"
     ]
    },
    {
     "data": {
      "text/plain": [
       "{'eta': 0.1,\n",
       " 'subsample': 0.8,\n",
       " 'max_depth': 6,\n",
       " 'colsample_bytree': 0.8,\n",
       " 'scale_pos_weight': 7,\n",
       " 'objective': 'binary:logistic',\n",
       " 'eval_metric': 'auc'}"
      ]
     },
     "execution_count": 504,
     "metadata": {},
     "output_type": "execute_result"
    }
   ],
   "source": [
    "print (\"n_best_trees={},xgboost parameters: \".format(n_best_trees))\n",
    "params"
   ]
  },
  {
   "cell_type": "code",
   "execution_count": 487,
   "metadata": {},
   "outputs": [],
   "source": [
    "# split the previous train data to train and validation data, and use the validation data to find the best threshold \n",
    "xtrain_new, xvalid, ytrain_new, yvalid = train_test_split(xtrain,ytrain, test_size=0.2,random_state=42)\n",
    "\n",
    "train_new_matrix = xgb.DMatrix(xtrain_new, ytrain_new)\n",
    "valid_matrix = xgb.DMatrix(xvalid)\n",
    "\n",
    "# retrain the new train data\n",
    "gbt_new = xgb.train(params, train_new_matrix, n_best_trees)\n",
    "\n",
    "# predict on validation set\n",
    "yvalid_probas = gbt_new.predict(valid_matrix, ntree_limit = n_best_trees)"
   ]
  },
  {
   "cell_type": "code",
   "execution_count": 488,
   "metadata": {},
   "outputs": [
    {
     "data": {
      "text/plain": [
       "Text(0, 0.5, 'TPR')"
      ]
     },
     "execution_count": 488,
     "metadata": {},
     "output_type": "execute_result"
    },
    {
     "data": {
      "image/png": "[encoded data removed]",
      "text/plain": [
       "<Figure size 432x288 with 1 Axes>"
      ]
     },
     "metadata": {
      "needs_background": "light"
     },
     "output_type": "display_data"
    }
   ],
   "source": [
    "# plot the roc curve and find the threshold which is nearest to the left-top of the ROC curve\n",
    "fpr,tpr,thresholds=roc_curve(yvalid,yvalid_probas)\n",
    "\n",
    "gmeans=np.sqrt(tpr*(1-fpr))\n",
    "i_max=np.argmax(gmeans)\n",
    "\n",
    "plt.plot(fpr,tpr)\n",
    "plt.scatter(fpr[i_max],tpr[i_max],marker='o',color='red',label='Best Threshold')\n",
    "plt.xlabel('FPR')\n",
    "plt.ylabel('TPR')"
   ]
  },
  {
   "cell_type": "code",
   "execution_count": 505,
   "metadata": {},
   "outputs": [
    {
     "name": "stdout",
     "output_type": "stream",
     "text": [
      "Best Threshold: 0.146\n"
     ]
    }
   ],
   "source": [
    "best_threshold = thresholds[i_max]\n",
    "print('Best Threshold: {:.3f}'.format(thresholds[i_max]))"
   ]
  },
  {
   "cell_type": "markdown",
   "metadata": {},
   "source": [
    "According to the above the roc-auc curve, I decide to choose a threshold which makes TPR at about 0.73 and FPR will be about 0.4."
   ]
  },
  {
   "cell_type": "code",
   "execution_count": 506,
   "metadata": {},
   "outputs": [],
   "source": [
    "def adjust_predict(matrix):\n",
    "    y_probas = gbt.predict(matrix, ntree_limit=n_best_trees)\n",
    "    return (y_probas > best_threshold).astype(int)"
   ]
  },
  {
   "cell_type": "code",
   "execution_count": 507,
   "metadata": {
    "scrolled": true
   },
   "outputs": [
    {
     "name": "stdout",
     "output_type": "stream",
     "text": [
      "              precision    recall  f1-score   support\n",
      "\n",
      "           0       0.99      0.61      0.75     32301\n",
      "           1       0.04      0.74      0.07       699\n",
      "\n",
      "    accuracy                           0.61     33000\n",
      "   macro avg       0.51      0.67      0.41     33000\n",
      "weighted avg       0.97      0.61      0.74     33000\n",
      "\n"
     ]
    }
   ],
   "source": [
    "ytest_pred = adjust_predict(test_matrix)\n",
    "\n",
    "print (classification_report(ytest,ytest_pred))"
   ]
  },
  {
   "cell_type": "code",
   "execution_count": 508,
   "metadata": {},
   "outputs": [
    {
     "name": "stdout",
     "output_type": "stream",
     "text": [
      "test precision: 3.88%\n",
      "test recall: 73.68%\n"
     ]
    }
   ],
   "source": [
    "print (\"test precision: {:.2f}%\".format(precision_score(ytest,ytest_pred) * 100))\n",
    "print (\"test recall: {:.2f}%\".format(recall_score(ytest,ytest_pred) * 100))"
   ]
  },
  {
   "cell_type": "code",
   "execution_count": 509,
   "metadata": {},
   "outputs": [],
   "source": [
    "gbt.save_model('gbt.model')"
   ]
  },
  {
   "cell_type": "markdown",
   "metadata": {},
   "source": [
    "<a id='question3(1)'></a>\n",
    "## Question 3\n",
    "How much do you think your model would improve click through rate? "
   ]
  },
  {
   "cell_type": "markdown",
   "metadata": {},
   "source": [
    "I just built a Gradient Boosting Tree model in previous section which predicts whether a user will click the link or not. The new email campaign strategy will only send email to uses which my model predicts positive."
   ]
  },
  {
   "cell_type": "code",
   "execution_count": 510,
   "metadata": {},
   "outputs": [
    {
     "name": "stdout",
     "output_type": "stream",
     "text": [
      "Previous emails sent: 33000.00 \n",
      "New emails sent: 13263.00 \n",
      "Saving percentage: 59.81 \n"
     ]
    }
   ],
   "source": [
    "old_emails_sent = ytest_pred.shape[0]\n",
    "new_email_sent = ytest_pred.sum()\n",
    "saving_percentage = 100 - new_email_sent * 100.0/old_emails_sent\n",
    "\n",
    "print('Previous emails sent: {:.2f} '.format(old_emails_sent))\n",
    "print('New emails sent: {:.2f} '.format(new_email_sent))\n",
    "print('Saving percentage: {:.2f} '.format(saving_percentage))"
   ]
  },
  {
   "cell_type": "markdown",
   "metadata": {},
   "source": [
    "According to the predictive result on test set:\n",
    "- 3.88 % of the receivers will open email and click the link. By compared with old strategy, whose click rate is 2.12%, my new strategy can increase the click rate by 1.8 times \n",
    "\n",
    "- my model saved nearly 60 % amount, and only need to 30 % of the old email amount"
   ]
  },
  {
   "cell_type": "markdown",
   "metadata": {},
   "source": [
    "<a id='question4)'></a>\n",
    "## Question 4\n",
    "How to test if the model can improve click through rate?"
   ]
  },
  {
   "cell_type": "markdown",
   "metadata": {},
   "source": [
    "A/B test can be performed totest if the model can improve click through rate:\n",
    "1. Randomly assign users to two groups, control and experimental group.\n",
    "2. In control group,user still use the old email-campaign strategy,i.e.,just send emails to users randomly.\n",
    "3. In experiment group,use the model I built to predict whether the user will click the link or not, and only send emails to those users whose predictive result is positive.\n",
    "4. Perform a one tail t-test/z-test to test whether experiment group's population proportion is higher than control groups's."
   ]
  },
  {
   "cell_type": "code",
   "execution_count": null,
   "metadata": {},
   "outputs": [],
   "source": []
  }
 ],
 "metadata": {
  "kernelspec": {
   "display_name": "Python 3",
   "language": "python",
   "name": "python3"
  },
  "language_info": {
   "codemirror_mode": {
    "name": "ipython",
    "version": 3
   },
   "file_extension": ".py",
   "mimetype": "text/x-python",
   "name": "python",
   "nbconvert_exporter": "python",
   "pygments_lexer": "ipython3",
   "version": "3.8.3"
  }
 },
 "nbformat": 4,
 "nbformat_minor": 4
}
