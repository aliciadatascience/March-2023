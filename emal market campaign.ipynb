{
 "cells": [
  {
   "cell_type": "markdown",
   "metadata": {},
   "source": [
    "# Project: Marketing Email Campaign---Is there any way to improve click through rate in email marketing campaigns?"
   ]
  },
  {
   "cell_type": "markdown",
   "metadata": {},
   "source": [
    "### Key Words: Segment users, EDA, XGBoost, Roc curve, Probability threshold, Classification Report, Precision Score, Recall Score, Feature Importance, A/B testing"
   ]
  },
  {
   "cell_type": "markdown",
   "metadata": {},
   "source": [
    "### Situation:\n",
    "In this mock project, I assume the marketing team launched an email campaign. Previously they send the marketing email to all of their customers. The click throught rate is low. From the marketing team perspective, a success is if the user clicks on the link inside the email.\n",
    "\n",
    "\n",
    "### Task:\n",
    "Assume I was tasked to propose solution to improve click through rate in future marketing email campaign. \n",
    "\n",
    "\n",
    "### Action and Result:\n",
    "I will perform EDA, stastistical analysis, data visualization and develop machine learning model in this task. Finally based on these analysis,I will present data-driven solutions. And to test if the solutions is effective or not, A/B testing may also needed. "
   ]
  },
  {
   "cell_type": "code",
   "execution_count": 1,
   "metadata": {},
   "outputs": [
    {
     "data": {
      "text/plain": [
       "<Figure size 432x288 with 0 Axes>"
      ]
     },
     "metadata": {},
     "output_type": "display_data"
    }
   ],
   "source": [
    "import numpy as np\n",
    "import pandas as pd\n",
    "import matplotlib.pyplot as plt\n",
    "import seaborn as sns\n",
    "\n",
    "# machine learning model related\n",
    "from sklearn.preprocessing import LabelEncoder, MinMaxScaler, StandardScaler\n",
    "from sklearn.model_selection import train_test_split, RandomizedSearchCV, GridSearchCV,cross_val_score\n",
    "from sklearn.metrics import accuracy_score,precision_score,recall_score,f1_score,roc_auc_score,confusion_matrix\n",
    "from sklearn.pipeline import Pipeline\n",
    "from sklearn.feature_selection import chi2\n",
    "\n",
    "# model algorithams\n",
    "from sklearn.linear_model import LogisticRegression\n",
    "from sklearn.tree import DecisionTreeRegressor,DecisionTreeClassifier\n",
    "from sklearn.svm import SVC\n",
    "from sklearn.ensemble import RandomForestClassifier, GradientBoostingClassifier\n",
    "from xgboost import XGBClassifier\n",
    "\n",
    "\n",
    "%matplotlib inline\n",
    "plt.tight_layout()"
   ]
  },
  {
   "cell_type": "markdown",
   "metadata": {},
   "source": [
    "### Preparing Data"
   ]
  },
  {
   "cell_type": "code",
   "execution_count": 2,
   "metadata": {},
   "outputs": [
    {
     "data": {
      "text/html": [
       "<div>\n",
       "<style scoped>\n",
       "    .dataframe tbody tr th:only-of-type {\n",
       "        vertical-align: middle;\n",
       "    }\n",
       "\n",
       "    .dataframe tbody tr th {\n",
       "        vertical-align: top;\n",
       "    }\n",
       "\n",
       "    .dataframe thead th {\n",
       "        text-align: right;\n",
       "    }\n",
       "</style>\n",
       "<table border=\"1\" class=\"dataframe\">\n",
       "  <thead>\n",
       "    <tr style=\"text-align: right;\">\n",
       "      <th></th>\n",
       "      <th>email_text</th>\n",
       "      <th>email_version</th>\n",
       "      <th>hour</th>\n",
       "      <th>weekday</th>\n",
       "      <th>user_country</th>\n",
       "      <th>user_past_purchases</th>\n",
       "    </tr>\n",
       "    <tr>\n",
       "      <th>email_id</th>\n",
       "      <th></th>\n",
       "      <th></th>\n",
       "      <th></th>\n",
       "      <th></th>\n",
       "      <th></th>\n",
       "      <th></th>\n",
       "    </tr>\n",
       "  </thead>\n",
       "  <tbody>\n",
       "    <tr>\n",
       "      <th>85120</th>\n",
       "      <td>short_email</td>\n",
       "      <td>personalized</td>\n",
       "      <td>2</td>\n",
       "      <td>Sunday</td>\n",
       "      <td>US</td>\n",
       "      <td>5</td>\n",
       "    </tr>\n",
       "    <tr>\n",
       "      <th>966622</th>\n",
       "      <td>long_email</td>\n",
       "      <td>personalized</td>\n",
       "      <td>12</td>\n",
       "      <td>Sunday</td>\n",
       "      <td>UK</td>\n",
       "      <td>2</td>\n",
       "    </tr>\n",
       "    <tr>\n",
       "      <th>777221</th>\n",
       "      <td>long_email</td>\n",
       "      <td>personalized</td>\n",
       "      <td>11</td>\n",
       "      <td>Wednesday</td>\n",
       "      <td>US</td>\n",
       "      <td>2</td>\n",
       "    </tr>\n",
       "    <tr>\n",
       "      <th>493711</th>\n",
       "      <td>short_email</td>\n",
       "      <td>generic</td>\n",
       "      <td>6</td>\n",
       "      <td>Monday</td>\n",
       "      <td>UK</td>\n",
       "      <td>1</td>\n",
       "    </tr>\n",
       "    <tr>\n",
       "      <th>106887</th>\n",
       "      <td>long_email</td>\n",
       "      <td>generic</td>\n",
       "      <td>14</td>\n",
       "      <td>Monday</td>\n",
       "      <td>US</td>\n",
       "      <td>6</td>\n",
       "    </tr>\n",
       "  </tbody>\n",
       "</table>\n",
       "</div>"
      ],
      "text/plain": [
       "           email_text email_version  hour    weekday user_country  \\\n",
       "email_id                                                            \n",
       "85120     short_email  personalized     2     Sunday           US   \n",
       "966622     long_email  personalized    12     Sunday           UK   \n",
       "777221     long_email  personalized    11  Wednesday           US   \n",
       "493711    short_email       generic     6     Monday           UK   \n",
       "106887     long_email       generic    14     Monday           US   \n",
       "\n",
       "          user_past_purchases  \n",
       "email_id                       \n",
       "85120                       5  \n",
       "966622                      2  \n",
       "777221                      2  \n",
       "493711                      1  \n",
       "106887                      6  "
      ]
     },
     "execution_count": 2,
     "metadata": {},
     "output_type": "execute_result"
    }
   ],
   "source": [
    "# read the email table and make email_id as index\n",
    "email = pd.read_csv('C:/Users/xiaoj/Desktop/level 20 interview/email/email_table.csv',index_col = 'email_id')\n",
    "email.head()"
   ]
  },
  {
   "cell_type": "code",
   "execution_count": 3,
   "metadata": {},
   "outputs": [
    {
     "data": {
      "text/html": [
       "<div>\n",
       "<style scoped>\n",
       "    .dataframe tbody tr th:only-of-type {\n",
       "        vertical-align: middle;\n",
       "    }\n",
       "\n",
       "    .dataframe tbody tr th {\n",
       "        vertical-align: top;\n",
       "    }\n",
       "\n",
       "    .dataframe thead th {\n",
       "        text-align: right;\n",
       "    }\n",
       "</style>\n",
       "<table border=\"1\" class=\"dataframe\">\n",
       "  <thead>\n",
       "    <tr style=\"text-align: right;\">\n",
       "      <th></th>\n",
       "      <th>is_short</th>\n",
       "      <th>is_personalized</th>\n",
       "      <th>hour</th>\n",
       "      <th>weekday</th>\n",
       "      <th>country</th>\n",
       "      <th>purchases</th>\n",
       "    </tr>\n",
       "    <tr>\n",
       "      <th>email_id</th>\n",
       "      <th></th>\n",
       "      <th></th>\n",
       "      <th></th>\n",
       "      <th></th>\n",
       "      <th></th>\n",
       "      <th></th>\n",
       "    </tr>\n",
       "  </thead>\n",
       "  <tbody>\n",
       "    <tr>\n",
       "      <th>85120</th>\n",
       "      <td>short_email</td>\n",
       "      <td>personalized</td>\n",
       "      <td>2</td>\n",
       "      <td>Sunday</td>\n",
       "      <td>US</td>\n",
       "      <td>5</td>\n",
       "    </tr>\n",
       "    <tr>\n",
       "      <th>966622</th>\n",
       "      <td>long_email</td>\n",
       "      <td>personalized</td>\n",
       "      <td>12</td>\n",
       "      <td>Sunday</td>\n",
       "      <td>UK</td>\n",
       "      <td>2</td>\n",
       "    </tr>\n",
       "    <tr>\n",
       "      <th>777221</th>\n",
       "      <td>long_email</td>\n",
       "      <td>personalized</td>\n",
       "      <td>11</td>\n",
       "      <td>Wednesday</td>\n",
       "      <td>US</td>\n",
       "      <td>2</td>\n",
       "    </tr>\n",
       "    <tr>\n",
       "      <th>493711</th>\n",
       "      <td>short_email</td>\n",
       "      <td>generic</td>\n",
       "      <td>6</td>\n",
       "      <td>Monday</td>\n",
       "      <td>UK</td>\n",
       "      <td>1</td>\n",
       "    </tr>\n",
       "    <tr>\n",
       "      <th>106887</th>\n",
       "      <td>long_email</td>\n",
       "      <td>generic</td>\n",
       "      <td>14</td>\n",
       "      <td>Monday</td>\n",
       "      <td>US</td>\n",
       "      <td>6</td>\n",
       "    </tr>\n",
       "  </tbody>\n",
       "</table>\n",
       "</div>"
      ],
      "text/plain": [
       "             is_short is_personalized  hour    weekday country  purchases\n",
       "email_id                                                                 \n",
       "85120     short_email    personalized     2     Sunday      US          5\n",
       "966622     long_email    personalized    12     Sunday      UK          2\n",
       "777221     long_email    personalized    11  Wednesday      US          2\n",
       "493711    short_email         generic     6     Monday      UK          1\n",
       "106887     long_email         generic    14     Monday      US          6"
      ]
     },
     "execution_count": 3,
     "metadata": {},
     "output_type": "execute_result"
    }
   ],
   "source": [
    "# rename long column names to shorter and understandable ones to make it easier to manipulation\n",
    "email.rename(columns = {'email_id':'id', 'email_text':'is_short', 'email_version':'is_personalized','user_country':'country', 'user_past_purchases':'purchases'},inplace=True)\n",
    "email.head()"
   ]
  },
  {
   "cell_type": "code",
   "execution_count": 157,
   "metadata": {},
   "outputs": [
    {
     "data": {
      "text/plain": [
       "0"
      ]
     },
     "execution_count": 157,
     "metadata": {},
     "output_type": "execute_result"
    }
   ],
   "source": [
    "# check for duplicates\n",
    "pd.read_csv('C:/Users/xiaoj/Desktop/level 20 interview/email/email_table.csv').duplicated().sum()"
   ]
  },
  {
   "cell_type": "code",
   "execution_count": 158,
   "metadata": {},
   "outputs": [
    {
     "name": "stdout",
     "output_type": "stream",
     "text": [
      "<class 'pandas.core.frame.DataFrame'>\n",
      "Int64Index: 100000 entries, 85120 to 348333\n",
      "Data columns (total 6 columns):\n",
      " #   Column           Non-Null Count   Dtype \n",
      "---  ------           --------------   ----- \n",
      " 0   is_short         100000 non-null  object\n",
      " 1   is_personalized  100000 non-null  object\n",
      " 2   hour             100000 non-null  int64 \n",
      " 3   weekday          100000 non-null  object\n",
      " 4   country          100000 non-null  object\n",
      " 5   purchases        100000 non-null  int64 \n",
      "dtypes: int64(2), object(4)\n",
      "memory usage: 5.3+ MB\n"
     ]
    }
   ],
   "source": [
    "email.info()"
   ]
  },
  {
   "cell_type": "markdown",
   "metadata": {},
   "source": [
    "From the data information, it can be easily found that there are no missing values in the dataset. And it includes 6 features, only two are numerical and the others are categorical. So I will firstly check the statistical information and types, respectively。"
   ]
  },
  {
   "cell_type": "code",
   "execution_count": 159,
   "metadata": {},
   "outputs": [
    {
     "data": {
      "text/html": [
       "<div>\n",
       "<style scoped>\n",
       "    .dataframe tbody tr th:only-of-type {\n",
       "        vertical-align: middle;\n",
       "    }\n",
       "\n",
       "    .dataframe tbody tr th {\n",
       "        vertical-align: top;\n",
       "    }\n",
       "\n",
       "    .dataframe thead th {\n",
       "        text-align: right;\n",
       "    }\n",
       "</style>\n",
       "<table border=\"1\" class=\"dataframe\">\n",
       "  <thead>\n",
       "    <tr style=\"text-align: right;\">\n",
       "      <th></th>\n",
       "      <th>hour</th>\n",
       "      <th>purchases</th>\n",
       "    </tr>\n",
       "  </thead>\n",
       "  <tbody>\n",
       "    <tr>\n",
       "      <th>count</th>\n",
       "      <td>100000.000000</td>\n",
       "      <td>100000.00000</td>\n",
       "    </tr>\n",
       "    <tr>\n",
       "      <th>mean</th>\n",
       "      <td>9.059300</td>\n",
       "      <td>3.87845</td>\n",
       "    </tr>\n",
       "    <tr>\n",
       "      <th>std</th>\n",
       "      <td>4.439637</td>\n",
       "      <td>3.19611</td>\n",
       "    </tr>\n",
       "    <tr>\n",
       "      <th>min</th>\n",
       "      <td>1.000000</td>\n",
       "      <td>0.00000</td>\n",
       "    </tr>\n",
       "    <tr>\n",
       "      <th>25%</th>\n",
       "      <td>6.000000</td>\n",
       "      <td>1.00000</td>\n",
       "    </tr>\n",
       "    <tr>\n",
       "      <th>50%</th>\n",
       "      <td>9.000000</td>\n",
       "      <td>3.00000</td>\n",
       "    </tr>\n",
       "    <tr>\n",
       "      <th>75%</th>\n",
       "      <td>12.000000</td>\n",
       "      <td>6.00000</td>\n",
       "    </tr>\n",
       "    <tr>\n",
       "      <th>max</th>\n",
       "      <td>24.000000</td>\n",
       "      <td>22.00000</td>\n",
       "    </tr>\n",
       "  </tbody>\n",
       "</table>\n",
       "</div>"
      ],
      "text/plain": [
       "                hour     purchases\n",
       "count  100000.000000  100000.00000\n",
       "mean        9.059300       3.87845\n",
       "std         4.439637       3.19611\n",
       "min         1.000000       0.00000\n",
       "25%         6.000000       1.00000\n",
       "50%         9.000000       3.00000\n",
       "75%        12.000000       6.00000\n",
       "max        24.000000      22.00000"
      ]
     },
     "execution_count": 159,
     "metadata": {},
     "output_type": "execute_result"
    }
   ],
   "source": [
    "# Check the numerical features, if there are outliers\n",
    "email.describe()"
   ]
  },
  {
   "cell_type": "code",
   "execution_count": 160,
   "metadata": {},
   "outputs": [
    {
     "data": {
      "text/plain": [
       "[2, 2, 7, 4]"
      ]
     },
     "execution_count": 160,
     "metadata": {},
     "output_type": "execute_result"
    }
   ],
   "source": [
    "#check the categories in categorical features\n",
    "[email[x].nunique() for x in ['is_short','is_personalized','weekday','country']]"
   ]
  },
  {
   "cell_type": "markdown",
   "metadata": {},
   "source": [
    "From the above data, it can be found that there are no outlier and category data is also reasonable."
   ]
  },
  {
   "cell_type": "code",
   "execution_count": 4,
   "metadata": {},
   "outputs": [
    {
     "data": {
      "text/html": [
       "<div>\n",
       "<style scoped>\n",
       "    .dataframe tbody tr th:only-of-type {\n",
       "        vertical-align: middle;\n",
       "    }\n",
       "\n",
       "    .dataframe tbody tr th {\n",
       "        vertical-align: top;\n",
       "    }\n",
       "\n",
       "    .dataframe thead th {\n",
       "        text-align: right;\n",
       "    }\n",
       "</style>\n",
       "<table border=\"1\" class=\"dataframe\">\n",
       "  <thead>\n",
       "    <tr style=\"text-align: right;\">\n",
       "      <th></th>\n",
       "      <th>email_id</th>\n",
       "    </tr>\n",
       "  </thead>\n",
       "  <tbody>\n",
       "    <tr>\n",
       "      <th>0</th>\n",
       "      <td>284534</td>\n",
       "    </tr>\n",
       "    <tr>\n",
       "      <th>1</th>\n",
       "      <td>609056</td>\n",
       "    </tr>\n",
       "    <tr>\n",
       "      <th>2</th>\n",
       "      <td>220820</td>\n",
       "    </tr>\n",
       "    <tr>\n",
       "      <th>3</th>\n",
       "      <td>905936</td>\n",
       "    </tr>\n",
       "    <tr>\n",
       "      <th>4</th>\n",
       "      <td>164034</td>\n",
       "    </tr>\n",
       "  </tbody>\n",
       "</table>\n",
       "</div>"
      ],
      "text/plain": [
       "   email_id\n",
       "0    284534\n",
       "1    609056\n",
       "2    220820\n",
       "3    905936\n",
       "4    164034"
      ]
     },
     "execution_count": 4,
     "metadata": {},
     "output_type": "execute_result"
    }
   ],
   "source": [
    "# read the \"open\" and \"click\" data in another two tables\n",
    "open = pd.read_csv('C:/Users/xiaoj/Desktop/level 20 interview/email/email_opened_table.csv')\n",
    "open.head()"
   ]
  },
  {
   "cell_type": "code",
   "execution_count": 5,
   "metadata": {},
   "outputs": [
    {
     "data": {
      "text/html": [
       "<div>\n",
       "<style scoped>\n",
       "    .dataframe tbody tr th:only-of-type {\n",
       "        vertical-align: middle;\n",
       "    }\n",
       "\n",
       "    .dataframe tbody tr th {\n",
       "        vertical-align: top;\n",
       "    }\n",
       "\n",
       "    .dataframe thead th {\n",
       "        text-align: right;\n",
       "    }\n",
       "</style>\n",
       "<table border=\"1\" class=\"dataframe\">\n",
       "  <thead>\n",
       "    <tr style=\"text-align: right;\">\n",
       "      <th></th>\n",
       "      <th>email_id</th>\n",
       "    </tr>\n",
       "  </thead>\n",
       "  <tbody>\n",
       "    <tr>\n",
       "      <th>0</th>\n",
       "      <td>609056</td>\n",
       "    </tr>\n",
       "    <tr>\n",
       "      <th>1</th>\n",
       "      <td>870980</td>\n",
       "    </tr>\n",
       "    <tr>\n",
       "      <th>2</th>\n",
       "      <td>935124</td>\n",
       "    </tr>\n",
       "    <tr>\n",
       "      <th>3</th>\n",
       "      <td>158501</td>\n",
       "    </tr>\n",
       "    <tr>\n",
       "      <th>4</th>\n",
       "      <td>177561</td>\n",
       "    </tr>\n",
       "  </tbody>\n",
       "</table>\n",
       "</div>"
      ],
      "text/plain": [
       "   email_id\n",
       "0    609056\n",
       "1    870980\n",
       "2    935124\n",
       "3    158501\n",
       "4    177561"
      ]
     },
     "execution_count": 5,
     "metadata": {},
     "output_type": "execute_result"
    }
   ],
   "source": [
    "click = pd.read_csv('C:/Users/xiaoj/Desktop/level 20 interview/email/link_clicked_table.csv')\n",
    "click.head()"
   ]
  },
  {
   "cell_type": "markdown",
   "metadata": {},
   "source": [
    "To concatenate the values in open and click table into the email table. I added two new features in 'email' called 'open' and \"click, which showed the customer's reactions to the link after they received the email."
   ]
  },
  {
   "cell_type": "markdown",
   "metadata": {},
   "source": [
    "\n",
    "### What percentage of users opened the email and clicked the link, respectively?"
   ]
  },
  {
   "cell_type": "markdown",
   "metadata": {},
   "source": [
    "For simplicity, Here I define the open rate are the users open the email divided by the total users we send emails to, the click through rate is those who clicked the link in the email divided by the total user numbers we send out."
   ]
  },
  {
   "cell_type": "code",
   "execution_count": 6,
   "metadata": {},
   "outputs": [
    {
     "name": "stdout",
     "output_type": "stream",
     "text": [
      "The ratio of opening the email is: 0.10345\n",
      "The ratio of clicking the email is: 0.02119\n"
     ]
    }
   ],
   "source": [
    "# add \"open\" features in email\n",
    "email['open'] = 0\n",
    "email.loc[open['email_id'],'open'] = 1\n",
    "email['open'].value_counts(normalize = True)\n",
    "print(\"The ratio of opening the email is:\", email['open'].value_counts(normalize = True)[1])\n",
    "\n",
    "# add \"click features in email\n",
    "email['click']=0\n",
    "email.loc[click['email_id'],'click'] = 1\n",
    "email['click'].value_counts(normalize=True)\n",
    "print(\"The ratio of clicking the email is:\", email['click'].value_counts(normalize = True)[1])"
   ]
  },
  {
   "cell_type": "markdown",
   "metadata": {},
   "source": [
    "It can be easily found that 10.345 %(opened + clicked)customers opened the email, and 2.119 % customers clicked the link."
   ]
  },
  {
   "cell_type": "code",
   "execution_count": 164,
   "metadata": {},
   "outputs": [
    {
     "data": {
      "text/html": [
       "<div>\n",
       "<style scoped>\n",
       "    .dataframe tbody tr th:only-of-type {\n",
       "        vertical-align: middle;\n",
       "    }\n",
       "\n",
       "    .dataframe tbody tr th {\n",
       "        vertical-align: top;\n",
       "    }\n",
       "\n",
       "    .dataframe thead th {\n",
       "        text-align: right;\n",
       "    }\n",
       "</style>\n",
       "<table border=\"1\" class=\"dataframe\">\n",
       "  <thead>\n",
       "    <tr style=\"text-align: right;\">\n",
       "      <th></th>\n",
       "      <th>is_short</th>\n",
       "      <th>is_personalized</th>\n",
       "      <th>hour</th>\n",
       "      <th>weekday</th>\n",
       "      <th>country</th>\n",
       "      <th>purchases</th>\n",
       "      <th>open</th>\n",
       "      <th>click</th>\n",
       "    </tr>\n",
       "    <tr>\n",
       "      <th>email_id</th>\n",
       "      <th></th>\n",
       "      <th></th>\n",
       "      <th></th>\n",
       "      <th></th>\n",
       "      <th></th>\n",
       "      <th></th>\n",
       "      <th></th>\n",
       "      <th></th>\n",
       "    </tr>\n",
       "  </thead>\n",
       "  <tbody>\n",
       "    <tr>\n",
       "      <th>622053</th>\n",
       "      <td>long_email</td>\n",
       "      <td>personalized</td>\n",
       "      <td>13</td>\n",
       "      <td>Tuesday</td>\n",
       "      <td>US</td>\n",
       "      <td>1</td>\n",
       "      <td>0</td>\n",
       "      <td>0</td>\n",
       "    </tr>\n",
       "    <tr>\n",
       "      <th>213458</th>\n",
       "      <td>long_email</td>\n",
       "      <td>personalized</td>\n",
       "      <td>6</td>\n",
       "      <td>Thursday</td>\n",
       "      <td>US</td>\n",
       "      <td>3</td>\n",
       "      <td>0</td>\n",
       "      <td>0</td>\n",
       "    </tr>\n",
       "    <tr>\n",
       "      <th>528622</th>\n",
       "      <td>long_email</td>\n",
       "      <td>personalized</td>\n",
       "      <td>12</td>\n",
       "      <td>Tuesday</td>\n",
       "      <td>US</td>\n",
       "      <td>4</td>\n",
       "      <td>0</td>\n",
       "      <td>0</td>\n",
       "    </tr>\n",
       "    <tr>\n",
       "      <th>132823</th>\n",
       "      <td>long_email</td>\n",
       "      <td>generic</td>\n",
       "      <td>10</td>\n",
       "      <td>Wednesday</td>\n",
       "      <td>UK</td>\n",
       "      <td>0</td>\n",
       "      <td>0</td>\n",
       "      <td>0</td>\n",
       "    </tr>\n",
       "    <tr>\n",
       "      <th>738295</th>\n",
       "      <td>short_email</td>\n",
       "      <td>generic</td>\n",
       "      <td>2</td>\n",
       "      <td>Friday</td>\n",
       "      <td>US</td>\n",
       "      <td>2</td>\n",
       "      <td>1</td>\n",
       "      <td>1</td>\n",
       "    </tr>\n",
       "  </tbody>\n",
       "</table>\n",
       "</div>"
      ],
      "text/plain": [
       "             is_short is_personalized  hour    weekday country  purchases  \\\n",
       "email_id                                                                    \n",
       "622053     long_email    personalized    13    Tuesday      US          1   \n",
       "213458     long_email    personalized     6   Thursday      US          3   \n",
       "528622     long_email    personalized    12    Tuesday      US          4   \n",
       "132823     long_email         generic    10  Wednesday      UK          0   \n",
       "738295    short_email         generic     2     Friday      US          2   \n",
       "\n",
       "          open  click  \n",
       "email_id               \n",
       "622053       0      0  \n",
       "213458       0      0  \n",
       "528622       0      0  \n",
       "132823       0      0  \n",
       "738295       1      1  "
      ]
     },
     "execution_count": 164,
     "metadata": {},
     "output_type": "execute_result"
    }
   ],
   "source": [
    "email.sample(5)"
   ]
  },
  {
   "cell_type": "code",
   "execution_count": 7,
   "metadata": {},
   "outputs": [
    {
     "data": {
      "text/html": [
       "<div>\n",
       "<style scoped>\n",
       "    .dataframe tbody tr th:only-of-type {\n",
       "        vertical-align: middle;\n",
       "    }\n",
       "\n",
       "    .dataframe tbody tr th {\n",
       "        vertical-align: top;\n",
       "    }\n",
       "\n",
       "    .dataframe thead th {\n",
       "        text-align: right;\n",
       "    }\n",
       "</style>\n",
       "<table border=\"1\" class=\"dataframe\">\n",
       "  <thead>\n",
       "    <tr style=\"text-align: right;\">\n",
       "      <th></th>\n",
       "      <th>is_short</th>\n",
       "      <th>is_personalized</th>\n",
       "      <th>hour</th>\n",
       "      <th>weekday</th>\n",
       "      <th>country</th>\n",
       "      <th>purchases</th>\n",
       "      <th>reaction</th>\n",
       "    </tr>\n",
       "    <tr>\n",
       "      <th>email_id</th>\n",
       "      <th></th>\n",
       "      <th></th>\n",
       "      <th></th>\n",
       "      <th></th>\n",
       "      <th></th>\n",
       "      <th></th>\n",
       "      <th></th>\n",
       "    </tr>\n",
       "  </thead>\n",
       "  <tbody>\n",
       "    <tr>\n",
       "      <th>85120</th>\n",
       "      <td>short_email</td>\n",
       "      <td>personalized</td>\n",
       "      <td>2</td>\n",
       "      <td>Sunday</td>\n",
       "      <td>US</td>\n",
       "      <td>5</td>\n",
       "      <td>received</td>\n",
       "    </tr>\n",
       "    <tr>\n",
       "      <th>966622</th>\n",
       "      <td>long_email</td>\n",
       "      <td>personalized</td>\n",
       "      <td>12</td>\n",
       "      <td>Sunday</td>\n",
       "      <td>UK</td>\n",
       "      <td>2</td>\n",
       "      <td>clicked</td>\n",
       "    </tr>\n",
       "    <tr>\n",
       "      <th>777221</th>\n",
       "      <td>long_email</td>\n",
       "      <td>personalized</td>\n",
       "      <td>11</td>\n",
       "      <td>Wednesday</td>\n",
       "      <td>US</td>\n",
       "      <td>2</td>\n",
       "      <td>received</td>\n",
       "    </tr>\n",
       "    <tr>\n",
       "      <th>493711</th>\n",
       "      <td>short_email</td>\n",
       "      <td>generic</td>\n",
       "      <td>6</td>\n",
       "      <td>Monday</td>\n",
       "      <td>UK</td>\n",
       "      <td>1</td>\n",
       "      <td>received</td>\n",
       "    </tr>\n",
       "    <tr>\n",
       "      <th>106887</th>\n",
       "      <td>long_email</td>\n",
       "      <td>generic</td>\n",
       "      <td>14</td>\n",
       "      <td>Monday</td>\n",
       "      <td>US</td>\n",
       "      <td>6</td>\n",
       "      <td>received</td>\n",
       "    </tr>\n",
       "  </tbody>\n",
       "</table>\n",
       "</div>"
      ],
      "text/plain": [
       "             is_short is_personalized  hour    weekday country  purchases  \\\n",
       "email_id                                                                    \n",
       "85120     short_email    personalized     2     Sunday      US          5   \n",
       "966622     long_email    personalized    12     Sunday      UK          2   \n",
       "777221     long_email    personalized    11  Wednesday      US          2   \n",
       "493711    short_email         generic     6     Monday      UK          1   \n",
       "106887     long_email         generic    14     Monday      US          6   \n",
       "\n",
       "          reaction  \n",
       "email_id            \n",
       "85120     received  \n",
       "966622     clicked  \n",
       "777221    received  \n",
       "493711    received  \n",
       "106887    received  "
      ]
     },
     "execution_count": 7,
     "metadata": {},
     "output_type": "execute_result"
    }
   ],
   "source": [
    "# since people who click the link in the mail must open the email, so I produce another table with open and click feature merged\n",
    "email1 = email.drop(columns = ['open','click']).copy()\n",
    "email1['reaction'] = 'received'\n",
    "\n",
    "# according to the other two tables, specify the operations customers did \n",
    "email1.loc[open['email_id'],'reaction'] = 'opened'\n",
    "email1.loc[click['email_id'],'reaction'] = 'clicked'\n",
    "\n",
    "email1.head()"
   ]
  },
  {
   "cell_type": "markdown",
   "metadata": {},
   "source": [
    "### Stastistical Analysis"
   ]
  },
  {
   "cell_type": "markdown",
   "metadata": {},
   "source": [
    "#### Distribution of Target"
   ]
  },
  {
   "cell_type": "code",
   "execution_count": 168,
   "metadata": {},
   "outputs": [
    {
     "data": {
      "text/html": [
       "<div>\n",
       "<style scoped>\n",
       "    .dataframe tbody tr th:only-of-type {\n",
       "        vertical-align: middle;\n",
       "    }\n",
       "\n",
       "    .dataframe tbody tr th {\n",
       "        vertical-align: top;\n",
       "    }\n",
       "\n",
       "    .dataframe thead th {\n",
       "        text-align: right;\n",
       "    }\n",
       "</style>\n",
       "<table border=\"1\" class=\"dataframe\">\n",
       "  <thead>\n",
       "    <tr style=\"text-align: right;\">\n",
       "      <th></th>\n",
       "      <th>click</th>\n",
       "    </tr>\n",
       "  </thead>\n",
       "  <tbody>\n",
       "    <tr>\n",
       "      <th>0</th>\n",
       "      <td>97881</td>\n",
       "    </tr>\n",
       "    <tr>\n",
       "      <th>1</th>\n",
       "      <td>2119</td>\n",
       "    </tr>\n",
       "  </tbody>\n",
       "</table>\n",
       "</div>"
      ],
      "text/plain": [
       "   click\n",
       "0  97881\n",
       "1   2119"
      ]
     },
     "execution_count": 168,
     "metadata": {},
     "output_type": "execute_result"
    }
   ],
   "source": [
    "click_count = pd.DataFrame(email['click'].value_counts())\n",
    "click_count"
   ]
  },
  {
   "cell_type": "code",
   "execution_count": 169,
   "metadata": {},
   "outputs": [
    {
     "data": {
      "text/html": [
       "<div>\n",
       "<style scoped>\n",
       "    .dataframe tbody tr th:only-of-type {\n",
       "        vertical-align: middle;\n",
       "    }\n",
       "\n",
       "    .dataframe tbody tr th {\n",
       "        vertical-align: top;\n",
       "    }\n",
       "\n",
       "    .dataframe thead th {\n",
       "        text-align: right;\n",
       "    }\n",
       "</style>\n",
       "<table border=\"1\" class=\"dataframe\">\n",
       "  <thead>\n",
       "    <tr style=\"text-align: right;\">\n",
       "      <th></th>\n",
       "      <th>open</th>\n",
       "    </tr>\n",
       "  </thead>\n",
       "  <tbody>\n",
       "    <tr>\n",
       "      <th>0</th>\n",
       "      <td>89655</td>\n",
       "    </tr>\n",
       "    <tr>\n",
       "      <th>1</th>\n",
       "      <td>10345</td>\n",
       "    </tr>\n",
       "  </tbody>\n",
       "</table>\n",
       "</div>"
      ],
      "text/plain": [
       "    open\n",
       "0  89655\n",
       "1  10345"
      ]
     },
     "execution_count": 169,
     "metadata": {},
     "output_type": "execute_result"
    }
   ],
   "source": [
    "open_count = pd.DataFrame(email['open'].value_counts())\n",
    "open_count"
   ]
  },
  {
   "cell_type": "markdown",
   "metadata": {},
   "source": [
    "It can be seen that the data is imbalanced dataset since the open or click are only minorties of the dataset."
   ]
  },
  {
   "cell_type": "markdown",
   "metadata": {},
   "source": [
    "<a id='explorepattern'></a>\n",
    "### Explore Correlation"
   ]
  },
  {
   "cell_type": "code",
   "execution_count": 8,
   "metadata": {},
   "outputs": [
    {
     "data": {
      "text/plain": [
       "Text(0.5, 1.0, 'Correlation Heatmap')"
      ]
     },
     "execution_count": 8,
     "metadata": {},
     "output_type": "execute_result"
    },
    {
     "data": {
      "image/png": "[encoded data removed]",
      "text/plain": [
       "<Figure size 576x432 with 2 Axes>"
      ]
     },
     "metadata": {
      "needs_background": "light"
     },
     "output_type": "display_data"
    }
   ],
   "source": [
    "# make a copy of original data since change may be introduced to the table\n",
    "X = email.copy()\n",
    "\n",
    "# I cut the 24 hours into 4 parts to make it easier to be categoried and analyzed\n",
    "X[\"hour\"] = pd.cut(email['hour'],bins = [0,9,13,18,24], labels=[\"morning\",'workhour1',\"workhour2\",'evening'])\n",
    "\n",
    "# encode the category features\n",
    "X['hour'] = LabelEncoder().fit_transform(X['hour'])\n",
    "X['is_short'] = LabelEncoder().fit_transform(X['is_short'])\n",
    "X['is_personalized'] = LabelEncoder().fit_transform(X['is_personalized'])\n",
    "X['weekday'] = LabelEncoder().fit_transform(X['weekday'])\n",
    "\n",
    "# I use a differnt function to transfer country into number since country is a key factor\n",
    "X = pd.get_dummies(X,columns=['country'])\n",
    "\n",
    "\n",
    "# draw the heatmap to get the correlationship between features\n",
    "plt.figure(figsize = (8, 6))\n",
    "s = sns.heatmap(X.corr(),cmap = 'RdBu',vmin = -1, vmax = 1,center = 0)\n",
    "s.set_yticklabels(s.get_yticklabels(), rotation = 0, fontsize = 12)\n",
    "s.set_xticklabels(s.get_xticklabels(), rotation = 50, fontsize = 12)\n",
    "plt.title(\"Correlation Heatmap\")"
   ]
  },
  {
   "cell_type": "code",
   "execution_count": 9,
   "metadata": {},
   "outputs": [
    {
     "data": {
      "text/plain": [
       "click              1.000000\n",
       "open               0.421750\n",
       "purchases          0.105445\n",
       "is_personalized    0.042208\n",
       "country_US         0.027012\n",
       "weekday            0.025308\n",
       "is_short           0.018519\n",
       "hour               0.013156\n",
       "country_UK         0.012077\n",
       "country_ES        -0.029716\n",
       "country_FR        -0.030511\n",
       "Name: click, dtype: float64"
      ]
     },
     "execution_count": 9,
     "metadata": {},
     "output_type": "execute_result"
    }
   ],
   "source": [
    "# print the correlation between features and target \n",
    "X.corr()['click'].sort_values(ascending = False)"
   ]
  },
  {
   "cell_type": "code",
   "execution_count": 22,
   "metadata": {},
   "outputs": [
    {
     "name": "stdout",
     "output_type": "stream",
     "text": [
      "Pearson correlation of open and click is 0.4217500240716455\n",
      "Pearson p-value:  0.0\n"
     ]
    }
   ],
   "source": [
    "from scipy.stats import pearsonr\n",
    "\n",
    "r, p_value  =  pearsonr(x=email['click'], y=email['open'])\n",
    "\n",
    "# print results\n",
    "print('Pearson correlation of open and click is', r1)\n",
    "print('Pearson p-value: ', p_value1)"
   ]
  },
  {
   "cell_type": "markdown",
   "metadata": {},
   "source": [
    "Heatmap shows the correlations between each features. Whe it is blue,it suggests that they are positively correlated, wheras when they are red, they are negative correlated. Based on the heatmap, we can see:\n",
    "- click and open has a very positive strong associated relationship;\n",
    "- Some country, such as ES and FR has negative effect on the open and click, while US and UK has position effect;\n",
    "- Purchases features has some positive linear effect on the open and click output."
   ]
  },
  {
   "cell_type": "markdown",
   "metadata": {},
   "source": [
    "<a id='chi2'></a>\n",
    "### Chi2-test\n",
    "Chi-square test can be performed to find the relatively associate relationship between categories features and output"
   ]
  },
  {
   "cell_type": "code",
   "execution_count": 175,
   "metadata": {},
   "outputs": [
    {
     "data": {
      "text/html": [
       "<div>\n",
       "<style scoped>\n",
       "    .dataframe tbody tr th:only-of-type {\n",
       "        vertical-align: middle;\n",
       "    }\n",
       "\n",
       "    .dataframe tbody tr th {\n",
       "        vertical-align: top;\n",
       "    }\n",
       "\n",
       "    .dataframe thead th {\n",
       "        text-align: right;\n",
       "    }\n",
       "</style>\n",
       "<table border=\"1\" class=\"dataframe\">\n",
       "  <thead>\n",
       "    <tr style=\"text-align: right;\">\n",
       "      <th></th>\n",
       "      <th>chi2score</th>\n",
       "      <th>p-value</th>\n",
       "    </tr>\n",
       "  </thead>\n",
       "  <tbody>\n",
       "    <tr>\n",
       "      <th>open</th>\n",
       "      <td>15947.211239</td>\n",
       "      <td>0.000000e+00</td>\n",
       "    </tr>\n",
       "    <tr>\n",
       "      <th>is_personalized</th>\n",
       "      <td>89.446479</td>\n",
       "      <td>3.150472e-21</td>\n",
       "    </tr>\n",
       "    <tr>\n",
       "      <th>weekday</th>\n",
       "      <td>85.093172</td>\n",
       "      <td>2.846317e-20</td>\n",
       "    </tr>\n",
       "    <tr>\n",
       "      <th>country_FR</th>\n",
       "      <td>83.787543</td>\n",
       "      <td>5.509086e-20</td>\n",
       "    </tr>\n",
       "    <tr>\n",
       "      <th>country_ES</th>\n",
       "      <td>79.503671</td>\n",
       "      <td>4.813301e-19</td>\n",
       "    </tr>\n",
       "    <tr>\n",
       "      <th>country_US</th>\n",
       "      <td>29.114098</td>\n",
       "      <td>6.823860e-08</td>\n",
       "    </tr>\n",
       "    <tr>\n",
       "      <th>is_short</th>\n",
       "      <td>17.241715</td>\n",
       "      <td>3.291296e-05</td>\n",
       "    </tr>\n",
       "    <tr>\n",
       "      <th>country_UK</th>\n",
       "      <td>11.677349</td>\n",
       "      <td>6.326561e-04</td>\n",
       "    </tr>\n",
       "    <tr>\n",
       "      <th>hour</th>\n",
       "      <td>6.513384</td>\n",
       "      <td>1.070656e-02</td>\n",
       "    </tr>\n",
       "  </tbody>\n",
       "</table>\n",
       "</div>"
      ],
      "text/plain": [
       "                    chi2score       p-value\n",
       "open             15947.211239  0.000000e+00\n",
       "is_personalized     89.446479  3.150472e-21\n",
       "weekday             85.093172  2.846317e-20\n",
       "country_FR          83.787543  5.509086e-20\n",
       "country_ES          79.503671  4.813301e-19\n",
       "country_US          29.114098  6.823860e-08\n",
       "is_short            17.241715  3.291296e-05\n",
       "country_UK          11.677349  6.326561e-04\n",
       "hour                 6.513384  1.070656e-02"
      ]
     },
     "execution_count": 175,
     "metadata": {},
     "output_type": "execute_result"
    }
   ],
   "source": [
    "# define the x and y for the chi2-test\n",
    "x = X.drop(columns=['click',\"purchases\"])\n",
    "y = X['click']\n",
    "\n",
    "# chi2-test\n",
    "chi2score,pvalue = chi2(x,y)\n",
    "feature_chiscore = pd.DataFrame({'chi2score':chi2score,\"p-value\": pvalue},index = X.drop(columns=['click',\"purchases\"]).columns)\n",
    "feature_chiscore.sort_values(by='chi2score',ascending=False)"
   ]
  },
  {
   "cell_type": "code",
   "execution_count": 176,
   "metadata": {},
   "outputs": [
    {
     "data": {
      "text/html": [
       "<div>\n",
       "<style scoped>\n",
       "    .dataframe tbody tr th:only-of-type {\n",
       "        vertical-align: middle;\n",
       "    }\n",
       "\n",
       "    .dataframe tbody tr th {\n",
       "        vertical-align: top;\n",
       "    }\n",
       "\n",
       "    .dataframe thead th {\n",
       "        text-align: right;\n",
       "    }\n",
       "</style>\n",
       "<table border=\"1\" class=\"dataframe\">\n",
       "  <thead>\n",
       "    <tr style=\"text-align: right;\">\n",
       "      <th></th>\n",
       "      <th>chi2score</th>\n",
       "      <th>p-value</th>\n",
       "    </tr>\n",
       "  </thead>\n",
       "  <tbody>\n",
       "    <tr>\n",
       "      <th>country_ES</th>\n",
       "      <td>444.593717</td>\n",
       "      <td>1.083149e-98</td>\n",
       "    </tr>\n",
       "    <tr>\n",
       "      <th>country_FR</th>\n",
       "      <td>425.409927</td>\n",
       "      <td>1.621546e-94</td>\n",
       "    </tr>\n",
       "    <tr>\n",
       "      <th>is_personalized</th>\n",
       "      <td>317.104038</td>\n",
       "      <td>6.190323e-71</td>\n",
       "    </tr>\n",
       "    <tr>\n",
       "      <th>weekday</th>\n",
       "      <td>229.291534</td>\n",
       "      <td>8.508405e-52</td>\n",
       "    </tr>\n",
       "    <tr>\n",
       "      <th>country_US</th>\n",
       "      <td>157.092431</td>\n",
       "      <td>4.885991e-36</td>\n",
       "    </tr>\n",
       "    <tr>\n",
       "      <th>is_short</th>\n",
       "      <td>82.560581</td>\n",
       "      <td>1.024805e-19</td>\n",
       "    </tr>\n",
       "    <tr>\n",
       "      <th>country_UK</th>\n",
       "      <td>60.074405</td>\n",
       "      <td>9.133842e-15</td>\n",
       "    </tr>\n",
       "    <tr>\n",
       "      <th>hour</th>\n",
       "      <td>35.236185</td>\n",
       "      <td>2.920464e-09</td>\n",
       "    </tr>\n",
       "  </tbody>\n",
       "</table>\n",
       "</div>"
      ],
      "text/plain": [
       "                  chi2score       p-value\n",
       "country_ES       444.593717  1.083149e-98\n",
       "country_FR       425.409927  1.621546e-94\n",
       "is_personalized  317.104038  6.190323e-71\n",
       "weekday          229.291534  8.508405e-52\n",
       "country_US       157.092431  4.885991e-36\n",
       "is_short          82.560581  1.024805e-19\n",
       "country_UK        60.074405  9.133842e-15\n",
       "hour              35.236185  2.920464e-09"
      ]
     },
     "execution_count": 176,
     "metadata": {},
     "output_type": "execute_result"
    }
   ],
   "source": [
    "# define the x and y for the chi2-test\n",
    "x = X.drop(columns=['open',\"click\",\"purchases\"])\n",
    "y = X['open']\n",
    "\n",
    "# chi2-test\n",
    "chi2score,pvalue = chi2(x,y)\n",
    "feature_chiscore = pd.DataFrame({'chi2score':chi2score,\"p-value\": pvalue},index = X.drop(columns=['click',\"open\",\"purchases\"]).columns)\n",
    "feature_chiscore.sort_values(by='chi2score',ascending=False)"
   ]
  },
  {
   "cell_type": "markdown",
   "metadata": {},
   "source": [
    "From the **chi2** test, it can be fount top 3 important factor:\n",
    "- If the email open has absolutely great effect on the click rate;\n",
    "- The 4 countries has different associated relationship with open rate; ES and FR has relatively larger effect;\n",
    "- if the email personalized also show some influence on the open and click;"
   ]
  },
  {
   "cell_type": "code",
   "execution_count": 179,
   "metadata": {},
   "outputs": [],
   "source": [
    "# define functions that can be generally applied to the various features when chek their influence on click rate\n",
    "def final_ratio(data):\n",
    "    return data['reaction'].value_counts(normalize = True)\n",
    "\n",
    "def feature_plot(feature):\n",
    "    feature_inf = email1.groupby(feature).apply(final_ratio)\n",
    "    feature_inf.loc[:,['opened','clicked']].plot(kind='bar')\n",
    "    plt.ylabel('Open & Click Ratio')\n",
    "    plt.xlabel(feature)\n",
    "    plt.xticks(rotation=0)\n",
    "    plt.title('Click Ratio vs. {}'.format(feature))\n",
    "    return feature_inf.sort_values(by=['clicked'],ascending = False)"
   ]
  },
  {
   "cell_type": "markdown",
   "metadata": {},
   "source": [
    "\n",
    "### Email personalized vs. Customers' reactions"
   ]
  },
  {
   "cell_type": "code",
   "execution_count": 180,
   "metadata": {},
   "outputs": [
    {
     "data": {
      "text/html": [
       "<div>\n",
       "<style scoped>\n",
       "    .dataframe tbody tr th:only-of-type {\n",
       "        vertical-align: middle;\n",
       "    }\n",
       "\n",
       "    .dataframe tbody tr th {\n",
       "        vertical-align: top;\n",
       "    }\n",
       "\n",
       "    .dataframe thead th {\n",
       "        text-align: right;\n",
       "    }\n",
       "</style>\n",
       "<table border=\"1\" class=\"dataframe\">\n",
       "  <thead>\n",
       "    <tr style=\"text-align: right;\">\n",
       "      <th>reaction</th>\n",
       "      <th>received</th>\n",
       "      <th>opened</th>\n",
       "      <th>clicked</th>\n",
       "    </tr>\n",
       "    <tr>\n",
       "      <th>is_personalized</th>\n",
       "      <th></th>\n",
       "      <th></th>\n",
       "      <th></th>\n",
       "    </tr>\n",
       "  </thead>\n",
       "  <tbody>\n",
       "    <tr>\n",
       "      <th>personalized</th>\n",
       "      <td>0.871864</td>\n",
       "      <td>0.100842</td>\n",
       "      <td>0.027294</td>\n",
       "    </tr>\n",
       "    <tr>\n",
       "      <th>generic</th>\n",
       "      <td>0.920034</td>\n",
       "      <td>0.064829</td>\n",
       "      <td>0.015137</td>\n",
       "    </tr>\n",
       "  </tbody>\n",
       "</table>\n",
       "</div>"
      ],
      "text/plain": [
       "reaction         received    opened   clicked\n",
       "is_personalized                              \n",
       "personalized     0.871864  0.100842  0.027294\n",
       "generic          0.920034  0.064829  0.015137"
      ]
     },
     "execution_count": 180,
     "metadata": {},
     "output_type": "execute_result"
    },
    {
     "data": {
      "image/png": "[encoded data removed]",
      "text/plain": [
       "<Figure size 432x288 with 1 Axes>"
      ]
     },
     "metadata": {
      "needs_background": "light"
     },
     "output_type": "display_data"
    }
   ],
   "source": [
    "# check if personlized email will produce more click rate\n",
    "feature_plot('is_personalized')"
   ]
  },
  {
   "cell_type": "markdown",
   "metadata": {},
   "source": [
    "### Email length vs. Customers' reactions"
   ]
  },
  {
   "cell_type": "code",
   "execution_count": 181,
   "metadata": {},
   "outputs": [
    {
     "data": {
      "text/html": [
       "<div>\n",
       "<style scoped>\n",
       "    .dataframe tbody tr th:only-of-type {\n",
       "        vertical-align: middle;\n",
       "    }\n",
       "\n",
       "    .dataframe tbody tr th {\n",
       "        vertical-align: top;\n",
       "    }\n",
       "\n",
       "    .dataframe thead th {\n",
       "        text-align: right;\n",
       "    }\n",
       "</style>\n",
       "<table border=\"1\" class=\"dataframe\">\n",
       "  <thead>\n",
       "    <tr style=\"text-align: right;\">\n",
       "      <th>reaction</th>\n",
       "      <th>received</th>\n",
       "      <th>opened</th>\n",
       "      <th>clicked</th>\n",
       "    </tr>\n",
       "    <tr>\n",
       "      <th>is_short</th>\n",
       "      <th></th>\n",
       "      <th></th>\n",
       "      <th></th>\n",
       "    </tr>\n",
       "  </thead>\n",
       "  <tbody>\n",
       "    <tr>\n",
       "      <th>short_email</th>\n",
       "      <td>0.883698</td>\n",
       "      <td>0.092430</td>\n",
       "      <td>0.023872</td>\n",
       "    </tr>\n",
       "    <tr>\n",
       "      <th>long_email</th>\n",
       "      <td>0.908266</td>\n",
       "      <td>0.073196</td>\n",
       "      <td>0.018538</td>\n",
       "    </tr>\n",
       "  </tbody>\n",
       "</table>\n",
       "</div>"
      ],
      "text/plain": [
       "reaction     received    opened   clicked\n",
       "is_short                                 \n",
       "short_email  0.883698  0.092430  0.023872\n",
       "long_email   0.908266  0.073196  0.018538"
      ]
     },
     "execution_count": 181,
     "metadata": {},
     "output_type": "execute_result"
    },
    {
     "data": {
      "image/png": "[encoded data removed]",
      "text/plain": [
       "<Figure size 432x288 with 1 Axes>"
      ]
     },
     "metadata": {
      "needs_background": "light"
     },
     "output_type": "display_data"
    }
   ],
   "source": [
    "# check if 'email text' is short has influence on final click rate\n",
    "feature_plot('is_short')"
   ]
  },
  {
   "cell_type": "markdown",
   "metadata": {},
   "source": [
    "It is easily to understand that personalized emails are more easier to be opened and clicked. the lendth of email has not much influence on the open and click rate."
   ]
  },
  {
   "cell_type": "code",
   "execution_count": 11,
   "metadata": {},
   "outputs": [
    {
     "data": {
      "text/html": [
       "<div>\n",
       "<style scoped>\n",
       "    .dataframe tbody tr th:only-of-type {\n",
       "        vertical-align: middle;\n",
       "    }\n",
       "\n",
       "    .dataframe tbody tr th {\n",
       "        vertical-align: top;\n",
       "    }\n",
       "\n",
       "    .dataframe thead th {\n",
       "        text-align: right;\n",
       "    }\n",
       "</style>\n",
       "<table border=\"1\" class=\"dataframe\">\n",
       "  <thead>\n",
       "    <tr style=\"text-align: right;\">\n",
       "      <th></th>\n",
       "      <th>is_short</th>\n",
       "      <th>is_personalized</th>\n",
       "      <th>hour</th>\n",
       "      <th>weekday</th>\n",
       "      <th>country</th>\n",
       "      <th>purchases</th>\n",
       "      <th>open</th>\n",
       "    </tr>\n",
       "    <tr>\n",
       "      <th>email_id</th>\n",
       "      <th></th>\n",
       "      <th></th>\n",
       "      <th></th>\n",
       "      <th></th>\n",
       "      <th></th>\n",
       "      <th></th>\n",
       "      <th></th>\n",
       "    </tr>\n",
       "  </thead>\n",
       "  <tbody>\n",
       "    <tr>\n",
       "      <th>966622</th>\n",
       "      <td>long_email</td>\n",
       "      <td>personalized</td>\n",
       "      <td>12</td>\n",
       "      <td>Sunday</td>\n",
       "      <td>UK</td>\n",
       "      <td>2</td>\n",
       "      <td>1</td>\n",
       "    </tr>\n",
       "    <tr>\n",
       "      <th>849</th>\n",
       "      <td>short_email</td>\n",
       "      <td>generic</td>\n",
       "      <td>16</td>\n",
       "      <td>Tuesday</td>\n",
       "      <td>US</td>\n",
       "      <td>5</td>\n",
       "      <td>1</td>\n",
       "    </tr>\n",
       "    <tr>\n",
       "      <th>721625</th>\n",
       "      <td>short_email</td>\n",
       "      <td>personalized</td>\n",
       "      <td>6</td>\n",
       "      <td>Thursday</td>\n",
       "      <td>US</td>\n",
       "      <td>7</td>\n",
       "      <td>1</td>\n",
       "    </tr>\n",
       "    <tr>\n",
       "      <th>477022</th>\n",
       "      <td>long_email</td>\n",
       "      <td>generic</td>\n",
       "      <td>7</td>\n",
       "      <td>Thursday</td>\n",
       "      <td>UK</td>\n",
       "      <td>4</td>\n",
       "      <td>1</td>\n",
       "    </tr>\n",
       "    <tr>\n",
       "      <th>135729</th>\n",
       "      <td>long_email</td>\n",
       "      <td>personalized</td>\n",
       "      <td>12</td>\n",
       "      <td>Monday</td>\n",
       "      <td>US</td>\n",
       "      <td>1</td>\n",
       "      <td>1</td>\n",
       "    </tr>\n",
       "  </tbody>\n",
       "</table>\n",
       "</div>"
      ],
      "text/plain": [
       "             is_short is_personalized  hour   weekday country  purchases  open\n",
       "email_id                                                                      \n",
       "966622     long_email    personalized    12    Sunday      UK          2     1\n",
       "849       short_email         generic    16   Tuesday      US          5     1\n",
       "721625    short_email    personalized     6  Thursday      US          7     1\n",
       "477022     long_email         generic     7  Thursday      UK          4     1\n",
       "135729     long_email    personalized    12    Monday      US          1     1"
      ]
     },
     "execution_count": 11,
     "metadata": {},
     "output_type": "execute_result"
    }
   ],
   "source": [
    "z= email.copy()\n",
    "pos = z[z['click']==1].drop(columns = 'click')\n",
    "neg = z[z['click']==0].drop(columns = 'click')\n",
    "pos.head()"
   ]
  },
  {
   "cell_type": "code",
   "execution_count": 16,
   "metadata": {},
   "outputs": [
    {
     "data": {
      "text/html": [
       "<div>\n",
       "<style scoped>\n",
       "    .dataframe tbody tr th:only-of-type {\n",
       "        vertical-align: middle;\n",
       "    }\n",
       "\n",
       "    .dataframe tbody tr th {\n",
       "        vertical-align: top;\n",
       "    }\n",
       "\n",
       "    .dataframe thead th {\n",
       "        text-align: right;\n",
       "    }\n",
       "</style>\n",
       "<table border=\"1\" class=\"dataframe\">\n",
       "  <thead>\n",
       "    <tr style=\"text-align: right;\">\n",
       "      <th></th>\n",
       "      <th>is_short</th>\n",
       "      <th>is_personalized</th>\n",
       "      <th>hour</th>\n",
       "      <th>weekday</th>\n",
       "      <th>purchases</th>\n",
       "      <th>open</th>\n",
       "      <th>click</th>\n",
       "      <th>country_ES</th>\n",
       "      <th>country_FR</th>\n",
       "      <th>country_UK</th>\n",
       "      <th>country_US</th>\n",
       "    </tr>\n",
       "    <tr>\n",
       "      <th>email_id</th>\n",
       "      <th></th>\n",
       "      <th></th>\n",
       "      <th></th>\n",
       "      <th></th>\n",
       "      <th></th>\n",
       "      <th></th>\n",
       "      <th></th>\n",
       "      <th></th>\n",
       "      <th></th>\n",
       "      <th></th>\n",
       "      <th></th>\n",
       "    </tr>\n",
       "  </thead>\n",
       "  <tbody>\n",
       "    <tr>\n",
       "      <th>85120</th>\n",
       "      <td>1</td>\n",
       "      <td>1</td>\n",
       "      <td>1</td>\n",
       "      <td>0</td>\n",
       "      <td>0.227273</td>\n",
       "      <td>0</td>\n",
       "      <td>0</td>\n",
       "      <td>0</td>\n",
       "      <td>0</td>\n",
       "      <td>0</td>\n",
       "      <td>1</td>\n",
       "    </tr>\n",
       "    <tr>\n",
       "      <th>966622</th>\n",
       "      <td>0</td>\n",
       "      <td>1</td>\n",
       "      <td>2</td>\n",
       "      <td>0</td>\n",
       "      <td>0.090909</td>\n",
       "      <td>1</td>\n",
       "      <td>1</td>\n",
       "      <td>0</td>\n",
       "      <td>0</td>\n",
       "      <td>1</td>\n",
       "      <td>0</td>\n",
       "    </tr>\n",
       "    <tr>\n",
       "      <th>777221</th>\n",
       "      <td>0</td>\n",
       "      <td>1</td>\n",
       "      <td>2</td>\n",
       "      <td>1</td>\n",
       "      <td>0.090909</td>\n",
       "      <td>0</td>\n",
       "      <td>0</td>\n",
       "      <td>0</td>\n",
       "      <td>0</td>\n",
       "      <td>0</td>\n",
       "      <td>1</td>\n",
       "    </tr>\n",
       "    <tr>\n",
       "      <th>493711</th>\n",
       "      <td>1</td>\n",
       "      <td>0</td>\n",
       "      <td>1</td>\n",
       "      <td>0</td>\n",
       "      <td>0.045455</td>\n",
       "      <td>0</td>\n",
       "      <td>0</td>\n",
       "      <td>0</td>\n",
       "      <td>0</td>\n",
       "      <td>1</td>\n",
       "      <td>0</td>\n",
       "    </tr>\n",
       "    <tr>\n",
       "      <th>106887</th>\n",
       "      <td>0</td>\n",
       "      <td>0</td>\n",
       "      <td>3</td>\n",
       "      <td>0</td>\n",
       "      <td>0.272727</td>\n",
       "      <td>0</td>\n",
       "      <td>0</td>\n",
       "      <td>0</td>\n",
       "      <td>0</td>\n",
       "      <td>0</td>\n",
       "      <td>1</td>\n",
       "    </tr>\n",
       "  </tbody>\n",
       "</table>\n",
       "</div>"
      ],
      "text/plain": [
       "          is_short  is_personalized  hour  weekday  purchases  open  click  \\\n",
       "email_id                                                                     \n",
       "85120            1                1     1        0   0.227273     0      0   \n",
       "966622           0                1     2        0   0.090909     1      1   \n",
       "777221           0                1     2        1   0.090909     0      0   \n",
       "493711           1                0     1        0   0.045455     0      0   \n",
       "106887           0                0     3        0   0.272727     0      0   \n",
       "\n",
       "          country_ES  country_FR  country_UK  country_US  \n",
       "email_id                                                  \n",
       "85120              0           0           0           1  \n",
       "966622             0           0           1           0  \n",
       "777221             0           0           0           1  \n",
       "493711             0           0           1           0  \n",
       "106887             0           0           0           1  "
      ]
     },
     "execution_count": 16,
     "metadata": {},
     "output_type": "execute_result"
    }
   ],
   "source": [
    "z = email.copy()\n",
    "from sklearn.preprocessing import MinMaxScaler\n",
    "scaler = MinMaxScaler()\n",
    "z['purchases'] = scaler.fit_transform(z[['purchases']])\n",
    "z[\"hour\"] = pd.cut(email['hour'],bins = [0,9,13,18,24], labels=[\"morning\",'workhour1',\"workhour2\",'evening'])\n",
    "\n",
    "# labelencoder the categorical fields inside the table\n",
    "z['hour'] = LabelEncoder().fit_transform(z['hour'])\n",
    "z['is_short'] = LabelEncoder().fit_transform(z['is_short'])\n",
    "z['is_personalized'] = LabelEncoder().fit_transform(z['is_personalized'])\n",
    "z['weekday'] = LabelEncoder().fit_transform(z['weekday'])\n",
    "z['weekday'] = (z['weekday']>=4).astype(int)\n",
    "\n",
    "z = pd.get_dummies(z,columns=['country'])\n",
    "z.head()"
   ]
  },
  {
   "cell_type": "code",
   "execution_count": 17,
   "metadata": {},
   "outputs": [
    {
     "data": {
      "text/html": [
       "<div>\n",
       "<style scoped>\n",
       "    .dataframe tbody tr th:only-of-type {\n",
       "        vertical-align: middle;\n",
       "    }\n",
       "\n",
       "    .dataframe tbody tr th {\n",
       "        vertical-align: top;\n",
       "    }\n",
       "\n",
       "    .dataframe thead th {\n",
       "        text-align: right;\n",
       "    }\n",
       "</style>\n",
       "<table border=\"1\" class=\"dataframe\">\n",
       "  <thead>\n",
       "    <tr style=\"text-align: right;\">\n",
       "      <th></th>\n",
       "      <th>is_short</th>\n",
       "      <th>is_personalized</th>\n",
       "      <th>hour</th>\n",
       "      <th>weekday</th>\n",
       "      <th>purchases</th>\n",
       "      <th>country_ES</th>\n",
       "      <th>country_FR</th>\n",
       "      <th>country_UK</th>\n",
       "      <th>country_US</th>\n",
       "    </tr>\n",
       "    <tr>\n",
       "      <th>email_id</th>\n",
       "      <th></th>\n",
       "      <th></th>\n",
       "      <th></th>\n",
       "      <th></th>\n",
       "      <th></th>\n",
       "      <th></th>\n",
       "      <th></th>\n",
       "      <th></th>\n",
       "      <th></th>\n",
       "    </tr>\n",
       "  </thead>\n",
       "  <tbody>\n",
       "    <tr>\n",
       "      <th>966622</th>\n",
       "      <td>0</td>\n",
       "      <td>1</td>\n",
       "      <td>2</td>\n",
       "      <td>0</td>\n",
       "      <td>0.090909</td>\n",
       "      <td>0</td>\n",
       "      <td>0</td>\n",
       "      <td>1</td>\n",
       "      <td>0</td>\n",
       "    </tr>\n",
       "    <tr>\n",
       "      <th>849</th>\n",
       "      <td>1</td>\n",
       "      <td>0</td>\n",
       "      <td>3</td>\n",
       "      <td>1</td>\n",
       "      <td>0.227273</td>\n",
       "      <td>0</td>\n",
       "      <td>0</td>\n",
       "      <td>0</td>\n",
       "      <td>1</td>\n",
       "    </tr>\n",
       "    <tr>\n",
       "      <th>721625</th>\n",
       "      <td>1</td>\n",
       "      <td>1</td>\n",
       "      <td>1</td>\n",
       "      <td>1</td>\n",
       "      <td>0.318182</td>\n",
       "      <td>0</td>\n",
       "      <td>0</td>\n",
       "      <td>0</td>\n",
       "      <td>1</td>\n",
       "    </tr>\n",
       "    <tr>\n",
       "      <th>477022</th>\n",
       "      <td>0</td>\n",
       "      <td>0</td>\n",
       "      <td>1</td>\n",
       "      <td>1</td>\n",
       "      <td>0.181818</td>\n",
       "      <td>0</td>\n",
       "      <td>0</td>\n",
       "      <td>1</td>\n",
       "      <td>0</td>\n",
       "    </tr>\n",
       "    <tr>\n",
       "      <th>135729</th>\n",
       "      <td>0</td>\n",
       "      <td>1</td>\n",
       "      <td>2</td>\n",
       "      <td>0</td>\n",
       "      <td>0.045455</td>\n",
       "      <td>0</td>\n",
       "      <td>0</td>\n",
       "      <td>0</td>\n",
       "      <td>1</td>\n",
       "    </tr>\n",
       "  </tbody>\n",
       "</table>\n",
       "</div>"
      ],
      "text/plain": [
       "          is_short  is_personalized  hour  weekday  purchases  country_ES  \\\n",
       "email_id                                                                    \n",
       "966622           0                1     2        0   0.090909           0   \n",
       "849              1                0     3        1   0.227273           0   \n",
       "721625           1                1     1        1   0.318182           0   \n",
       "477022           0                0     1        1   0.181818           0   \n",
       "135729           0                1     2        0   0.045455           0   \n",
       "\n",
       "          country_FR  country_UK  country_US  \n",
       "email_id                                      \n",
       "966622             0           1           0  \n",
       "849                0           0           1  \n",
       "721625             0           0           1  \n",
       "477022             0           1           0  \n",
       "135729             0           0           1  "
      ]
     },
     "execution_count": 17,
     "metadata": {},
     "output_type": "execute_result"
    }
   ],
   "source": [
    "pos = z[z['click']==1].drop(columns = ['click','open'])\n",
    "neg = z[z['click']==0].drop(columns = ['click','open'])\n",
    "pos.head()"
   ]
  },
  {
   "cell_type": "code",
   "execution_count": 18,
   "metadata": {},
   "outputs": [
    {
     "data": {
      "image/png": "[encoded data removed]",
      "text/plain": [
       "<Figure size 648x504 with 1 Axes>"
      ]
     },
     "metadata": {
      "needs_background": "light"
     },
     "output_type": "display_data"
    }
   ],
   "source": [
    "# visualize the differences\n",
    "plt.figure(figsize = (9, 7))\n",
    "\n",
    "value1 = pd.DataFrame((((pos.mean()) - neg.mean()) / neg.mean())*100)\n",
    "value1.dropna(inplace = True)\n",
    "value1.sort_values(by=0,inplace = True)\n",
    "value1['positive'] = value1[0] >=0\n",
    "value1[0].plot(kind='barh', color=value1.positive.map({True: 'navy', False: 'orange'}))\n",
    "plt.title(\"Customer Characteristics Comparison - Customer who click vs not click\")\n",
    "plt.xlabel(\"Difference in %\")\n",
    "plt.ylabel(\"Characteristics\");"
   ]
  },
  {
   "cell_type": "code",
   "execution_count": 39,
   "metadata": {},
   "outputs": [
    {
     "data": {
      "text/html": [
       "<div>\n",
       "<style scoped>\n",
       "    .dataframe tbody tr th:only-of-type {\n",
       "        vertical-align: middle;\n",
       "    }\n",
       "\n",
       "    .dataframe tbody tr th {\n",
       "        vertical-align: top;\n",
       "    }\n",
       "\n",
       "    .dataframe thead th {\n",
       "        text-align: right;\n",
       "    }\n",
       "</style>\n",
       "<table border=\"1\" class=\"dataframe\">\n",
       "  <thead>\n",
       "    <tr style=\"text-align: right;\">\n",
       "      <th></th>\n",
       "      <th>0</th>\n",
       "    </tr>\n",
       "  </thead>\n",
       "  <tbody>\n",
       "    <tr>\n",
       "      <th>country_FR</th>\n",
       "      <td>-62.729544</td>\n",
       "    </tr>\n",
       "    <tr>\n",
       "      <th>country_ES</th>\n",
       "      <td>-61.210624</td>\n",
       "    </tr>\n",
       "    <tr>\n",
       "      <th>hour</th>\n",
       "      <td>4.524472</td>\n",
       "    </tr>\n",
       "    <tr>\n",
       "      <th>is_short</th>\n",
       "      <td>12.965344</td>\n",
       "    </tr>\n",
       "    <tr>\n",
       "      <th>country_US</th>\n",
       "      <td>15.332469</td>\n",
       "    </tr>\n",
       "    <tr>\n",
       "      <th>country_UK</th>\n",
       "      <td>16.863780</td>\n",
       "    </tr>\n",
       "    <tr>\n",
       "      <th>weekday</th>\n",
       "      <td>21.575695</td>\n",
       "    </tr>\n",
       "    <tr>\n",
       "      <th>is_personalized</th>\n",
       "      <td>29.614770</td>\n",
       "    </tr>\n",
       "    <tr>\n",
       "      <th>purchases</th>\n",
       "      <td>61.116933</td>\n",
       "    </tr>\n",
       "    <tr>\n",
       "      <th>open</th>\n",
       "      <td>1054.801793</td>\n",
       "    </tr>\n",
       "  </tbody>\n",
       "</table>\n",
       "</div>"
      ],
      "text/plain": [
       "                           0\n",
       "country_FR        -62.729544\n",
       "country_ES        -61.210624\n",
       "hour                4.524472\n",
       "is_short           12.965344\n",
       "country_US         15.332469\n",
       "country_UK         16.863780\n",
       "weekday            21.575695\n",
       "is_personalized    29.614770\n",
       "purchases          61.116933\n",
       "open             1054.801793"
      ]
     },
     "execution_count": 39,
     "metadata": {},
     "output_type": "execute_result"
    },
    {
     "data": {
      "text/plain": [
       "<Figure size 648x504 with 0 Axes>"
      ]
     },
     "metadata": {},
     "output_type": "display_data"
    }
   ],
   "source": [
    "# visualize the differences between click and not click\n",
    "plt.figure(figsize = (9, 7))\n",
    "\n",
    "value1 = pd.DataFrame((((pos.mean()) - neg.mean()) / neg.mean())*100)\n",
    "value1.dropna(inplace = True)\n",
    "\n",
    "value1.sort_values(by=0,inplace = True)\n",
    "value1"
   ]
  },
  {
   "cell_type": "code",
   "execution_count": 43,
   "metadata": {},
   "outputs": [
    {
     "data": {
      "image/png": "[encoded data removed]",
      "text/plain": [
       "<Figure size 648x504 with 1 Axes>"
      ]
     },
     "metadata": {
      "needs_background": "light"
     },
     "output_type": "display_data"
    }
   ],
   "source": [
    "# visualize the differences\n",
    "plt.figure(figsize = (9, 7))\n",
    "\n",
    "value1 = pd.DataFrame((((pos.mean()) - neg.mean()) / neg.mean())*100)\n",
    "value1.dropna(inplace = True)\n",
    "value1.sort_values(by=0,inplace = True)\n",
    "value1['positive'] = value1[0] >=0\n",
    "value1[0].plot(kind='barh', color=value1.positive.map({True: 'navy', False: 'orange'}))\n",
    "plt.title(\"Customer Characteristics Comparison - Customer who click vs not click\")\n",
    "plt.xlabel(\"Difference in %\")\n",
    "plt.ylabel(\"Characteristics\");"
   ]
  },
  {
   "cell_type": "code",
   "execution_count": 42,
   "metadata": {},
   "outputs": [
    {
     "name": "stdout",
     "output_type": "stream",
     "text": [
      "Pearson correlation of purchases and click is 0.10544514945599753\n",
      "Pearson p-value:  3.908892837091622e-245\n",
      "Pearson correlation of purchases and open is 0.08593391058498803\n",
      "Pearson p-value:  3.311669811957705e-163\n"
     ]
    }
   ],
   "source": [
    "from scipy.stats import pearsonr\n",
    "\n",
    "r1, p_value1  =  pearsonr(x=email['purchases'], y=email['click'])\n",
    "r2, p_value2  =  pearsonr(x=email['purchases'], y=email['open'])\n",
    "\n",
    "# print results\n",
    "print('Pearson correlation of purchases and click is', r1)\n",
    "print('Pearson p-value: ', p_value1)\n",
    "\n",
    "print('Pearson correlation of purchases and open is', r2)\n",
    "print('Pearson p-value: ', p_value2)"
   ]
  },
  {
   "cell_type": "markdown",
   "metadata": {},
   "source": [
    "<a id='country'></a>\n",
    "### Country vs. Customers' reactions"
   ]
  },
  {
   "cell_type": "code",
   "execution_count": 237,
   "metadata": {},
   "outputs": [],
   "source": [
    "a=pd.get_dummies(z[z['click']==1].drop(columns = 'click')['country']).mean()\n",
    "b=pd.get_dummies(z[z['click']==0].drop(columns = 'click')['country']).mean()"
   ]
  },
  {
   "cell_type": "code",
   "execution_count": 238,
   "metadata": {},
   "outputs": [
    {
     "data": {
      "image/png": "[encoded data removed]",
      "text/plain": [
       "<Figure size 648x504 with 1 Axes>"
      ]
     },
     "metadata": {
      "needs_background": "light"
     },
     "output_type": "display_data"
    }
   ],
   "source": [
    "# visualize the differences\n",
    "plt.figure(figsize = (9, 7))\n",
    "\n",
    "value1 = pd.DataFrame((a-b)/b*100)\n",
    "value1.dropna(inplace = True)\n",
    "value1.sort_values(by=0,inplace = True)\n",
    "value1['positive'] = value1[0] >=0\n",
    "value1[0].plot(kind='barh', color=value1.positive.map({True: 'navy', False: 'orange'}))\n",
    "plt.title(\"Customer Characteristics Comparison - Customer who click vs not click\")\n",
    "plt.xlabel(\"Difference in %\")\n",
    "plt.ylabel(\"Characteristics\");"
   ]
  },
  {
   "cell_type": "code",
   "execution_count": 58,
   "metadata": {},
   "outputs": [],
   "source": [
    "def compar(feature):\n",
    "    pos = email[email['click']==1][feature].value_counts()\n",
    "    neg = email[email['click']==0][feature].value_counts()\n",
    "    value1 = pd.DataFrame(pos/(neg + pos)*100)\n",
    "    \n",
    "    plt.figure(figsize = (6, 5))\n",
    "    value1.dropna(inplace = True)\n",
    "    value1.sort_values(by=feature,inplace = True)\n",
    "    value1['positive'] = value1[feature] >=0\n",
    "    value1[feature].plot(kind='barh', color=value1.positive.map({True: 'navy', False: 'orange'}))\n",
    "    plt.title(\"Customer Characteristics Comparison - Customer click the link VS. not click\")\n",
    "    plt.xlabel(\"Difference in %\")\n",
    "    plt.ylabel(\"Characteristics\")"
   ]
  },
  {
   "cell_type": "code",
   "execution_count": 62,
   "metadata": {
    "scrolled": true
   },
   "outputs": [
    {
     "data": {
      "image/png": "[encoded data removed]",
      "text/plain": [
       "<Figure size 432x360 with 1 Axes>"
      ]
     },
     "metadata": {
      "needs_background": "light"
     },
     "output_type": "display_data"
    }
   ],
   "source": [
    "compar('country')"
   ]
  },
  {
   "cell_type": "markdown",
   "metadata": {},
   "source": [
    "It can be easily found that 'click' percentage are much higher in UK and US than in France and Spain. \n",
    "\n",
    "This may be the translation issue. For English-speaking counties, the web are easier to understand. While for those non-English-speaking countries, the emails sent out are not as easy as native language to be readable, which cause low open and click percentages. "
   ]
  },
  {
   "cell_type": "code",
   "execution_count": 138,
   "metadata": {},
   "outputs": [
    {
     "data": {
      "text/html": [
       "<div>\n",
       "<style scoped>\n",
       "    .dataframe tbody tr th:only-of-type {\n",
       "        vertical-align: middle;\n",
       "    }\n",
       "\n",
       "    .dataframe tbody tr th {\n",
       "        vertical-align: top;\n",
       "    }\n",
       "\n",
       "    .dataframe thead th {\n",
       "        text-align: right;\n",
       "    }\n",
       "</style>\n",
       "<table border=\"1\" class=\"dataframe\">\n",
       "  <thead>\n",
       "    <tr style=\"text-align: right;\">\n",
       "      <th></th>\n",
       "      <th>click/open</th>\n",
       "      <th>open/total</th>\n",
       "    </tr>\n",
       "    <tr>\n",
       "      <th>country</th>\n",
       "      <th></th>\n",
       "      <th></th>\n",
       "    </tr>\n",
       "  </thead>\n",
       "  <tbody>\n",
       "    <tr>\n",
       "      <th>ES</th>\n",
       "      <td>0.212821</td>\n",
       "      <td>0.039129</td>\n",
       "    </tr>\n",
       "    <tr>\n",
       "      <th>FR</th>\n",
       "      <td>0.197044</td>\n",
       "      <td>0.040620</td>\n",
       "    </tr>\n",
       "    <tr>\n",
       "      <th>UK</th>\n",
       "      <td>0.205342</td>\n",
       "      <td>0.120167</td>\n",
       "    </tr>\n",
       "    <tr>\n",
       "      <th>US</th>\n",
       "      <td>0.204669</td>\n",
       "      <td>0.119020</td>\n",
       "    </tr>\n",
       "  </tbody>\n",
       "</table>\n",
       "</div>"
      ],
      "text/plain": [
       "         click/open  open/total\n",
       "country                        \n",
       "ES         0.212821    0.039129\n",
       "FR         0.197044    0.040620\n",
       "UK         0.205342    0.120167\n",
       "US         0.204669    0.119020"
      ]
     },
     "execution_count": 138,
     "metadata": {},
     "output_type": "execute_result"
    }
   ],
   "source": [
    "# check the click and open ratio in different countries\n",
    "click_n = z[z['click']==1].groupby('country')['click'].count()\n",
    "open_n = z[z['open']==1].groupby('country')['click'].count()\n",
    "country_n = z.groupby('country')['purchases'].count()\n",
    "\n",
    "click_open_ratio = click_n / open_n\n",
    "open_ratio = open_n / country_n\n",
    "\n",
    "df = pd.DataFrame(click_open_ratio)\n",
    "df.rename(columns = {'click':'click/open'},inplace=True)\n",
    "df['open/total'] = open_ratio\n",
    "df"
   ]
  },
  {
   "cell_type": "code",
   "execution_count": 92,
   "metadata": {},
   "outputs": [
    {
     "data": {
      "text/plain": [
       "Text(0, 0.5, 'Characteristics')"
      ]
     },
     "execution_count": 92,
     "metadata": {},
     "output_type": "execute_result"
    },
    {
     "data": {
      "image/png": "[encoded data removed]",
      "text/plain": [
       "<Figure size 648x504 with 1 Axes>"
      ]
     },
     "metadata": {
      "needs_background": "light"
     },
     "output_type": "display_data"
    }
   ],
   "source": [
    "# visualize the differences\n",
    "plt.figure(figsize = (9, 7))\n",
    "\n",
    "z= email.copy()\n",
    "z1_day = z[z['click']==1]['weekday'].value_counts(normalize = True)\n",
    "z2_day = z[z['click']==0]['weekday'].value_counts(normalize = True)\n",
    "\n",
    "value1 = pd.DataFrame(((z1_day - z2_day)/ z2_day)*100)\n",
    "value1.dropna(inplace = True)\n",
    "value1.sort_values(by=\"weekday\",inplace = True)\n",
    "value1['positive'] = value1[\"weekday\"] >=0\n",
    "value1[\"weekday\"].plot(kind='barh', color=value1.positive.map({True: 'navy', False: 'orange'}))\n",
    "plt.title(\"Customer Characteristics Comparison - Customer click vs not click\")\n",
    "plt.xlabel(\"Difference in %\")\n",
    "plt.ylabel(\"Characteristics\")"
   ]
  },
  {
   "cell_type": "markdown",
   "metadata": {},
   "source": [
    "It can be found from above figure that Fiday, Satuday, Sunday have obviously lower 'open' and 'click' percentage than the other days. "
   ]
  },
  {
   "cell_type": "markdown",
   "metadata": {},
   "source": [
    "1. Launch promotion campaign to help those who opened but did not click finish their conversion;\n",
    "\n",
    "2. Build loyalty program for those who has purchase history;\n",
    "\n",
    "3. Make the email more personalized;\n",
    "\n",
    "4. Spend more marketing budge in US and UK; find the reasons why people in ES and FR don’t open the email. \n",
    "\n",
    "5. Send emails on Workday instead of weekend, including Friday ;\n"
   ]
  },
  {
   "cell_type": "markdown",
   "metadata": {},
   "source": [
    "<a id='build'></a>\n",
    "## Machine Learning Model\n",
    "Build a model to predict whether a user will open the email and click the link inside it. Then try to maximize the probability of users clicking on the link by using this model."
   ]
  },
  {
   "cell_type": "markdown",
   "metadata": {},
   "source": [
    "<a id='prepare'></a>\n",
    "#### Prepare the data for ML model"
   ]
  },
  {
   "cell_type": "code",
   "execution_count": 182,
   "metadata": {},
   "outputs": [
    {
     "data": {
      "text/html": [
       "<div>\n",
       "<style scoped>\n",
       "    .dataframe tbody tr th:only-of-type {\n",
       "        vertical-align: middle;\n",
       "    }\n",
       "\n",
       "    .dataframe tbody tr th {\n",
       "        vertical-align: top;\n",
       "    }\n",
       "\n",
       "    .dataframe thead th {\n",
       "        text-align: right;\n",
       "    }\n",
       "</style>\n",
       "<table border=\"1\" class=\"dataframe\">\n",
       "  <thead>\n",
       "    <tr style=\"text-align: right;\">\n",
       "      <th></th>\n",
       "      <th>is_short</th>\n",
       "      <th>is_personalized</th>\n",
       "      <th>hour</th>\n",
       "      <th>weekday</th>\n",
       "      <th>country</th>\n",
       "      <th>purchases</th>\n",
       "      <th>open</th>\n",
       "      <th>click</th>\n",
       "    </tr>\n",
       "    <tr>\n",
       "      <th>email_id</th>\n",
       "      <th></th>\n",
       "      <th></th>\n",
       "      <th></th>\n",
       "      <th></th>\n",
       "      <th></th>\n",
       "      <th></th>\n",
       "      <th></th>\n",
       "      <th></th>\n",
       "    </tr>\n",
       "  </thead>\n",
       "  <tbody>\n",
       "    <tr>\n",
       "      <th>85120</th>\n",
       "      <td>short_email</td>\n",
       "      <td>personalized</td>\n",
       "      <td>2</td>\n",
       "      <td>Sunday</td>\n",
       "      <td>US</td>\n",
       "      <td>5</td>\n",
       "      <td>0</td>\n",
       "      <td>0</td>\n",
       "    </tr>\n",
       "    <tr>\n",
       "      <th>966622</th>\n",
       "      <td>long_email</td>\n",
       "      <td>personalized</td>\n",
       "      <td>12</td>\n",
       "      <td>Sunday</td>\n",
       "      <td>UK</td>\n",
       "      <td>2</td>\n",
       "      <td>1</td>\n",
       "      <td>1</td>\n",
       "    </tr>\n",
       "    <tr>\n",
       "      <th>777221</th>\n",
       "      <td>long_email</td>\n",
       "      <td>personalized</td>\n",
       "      <td>11</td>\n",
       "      <td>Wednesday</td>\n",
       "      <td>US</td>\n",
       "      <td>2</td>\n",
       "      <td>0</td>\n",
       "      <td>0</td>\n",
       "    </tr>\n",
       "    <tr>\n",
       "      <th>493711</th>\n",
       "      <td>short_email</td>\n",
       "      <td>generic</td>\n",
       "      <td>6</td>\n",
       "      <td>Monday</td>\n",
       "      <td>UK</td>\n",
       "      <td>1</td>\n",
       "      <td>0</td>\n",
       "      <td>0</td>\n",
       "    </tr>\n",
       "    <tr>\n",
       "      <th>106887</th>\n",
       "      <td>long_email</td>\n",
       "      <td>generic</td>\n",
       "      <td>14</td>\n",
       "      <td>Monday</td>\n",
       "      <td>US</td>\n",
       "      <td>6</td>\n",
       "      <td>0</td>\n",
       "      <td>0</td>\n",
       "    </tr>\n",
       "  </tbody>\n",
       "</table>\n",
       "</div>"
      ],
      "text/plain": [
       "             is_short is_personalized  hour    weekday country  purchases  \\\n",
       "email_id                                                                    \n",
       "85120     short_email    personalized     2     Sunday      US          5   \n",
       "966622     long_email    personalized    12     Sunday      UK          2   \n",
       "777221     long_email    personalized    11  Wednesday      US          2   \n",
       "493711    short_email         generic     6     Monday      UK          1   \n",
       "106887     long_email         generic    14     Monday      US          6   \n",
       "\n",
       "          open  click  \n",
       "email_id               \n",
       "85120        0      0  \n",
       "966622       1      1  \n",
       "777221       0      0  \n",
       "493711       0      0  \n",
       "106887       0      0  "
      ]
     },
     "execution_count": 182,
     "metadata": {},
     "output_type": "execute_result"
    }
   ],
   "source": [
    "# cope the originial data and create a new one\n",
    "z = email.copy()\n",
    "z.head()"
   ]
  },
  {
   "cell_type": "code",
   "execution_count": 183,
   "metadata": {},
   "outputs": [
    {
     "data": {
      "text/html": [
       "<div>\n",
       "<style scoped>\n",
       "    .dataframe tbody tr th:only-of-type {\n",
       "        vertical-align: middle;\n",
       "    }\n",
       "\n",
       "    .dataframe tbody tr th {\n",
       "        vertical-align: top;\n",
       "    }\n",
       "\n",
       "    .dataframe thead th {\n",
       "        text-align: right;\n",
       "    }\n",
       "</style>\n",
       "<table border=\"1\" class=\"dataframe\">\n",
       "  <thead>\n",
       "    <tr style=\"text-align: right;\">\n",
       "      <th></th>\n",
       "      <th>is_short</th>\n",
       "      <th>is_personalized</th>\n",
       "      <th>hour</th>\n",
       "      <th>weekday</th>\n",
       "      <th>country</th>\n",
       "      <th>purchases</th>\n",
       "      <th>open</th>\n",
       "      <th>click</th>\n",
       "    </tr>\n",
       "    <tr>\n",
       "      <th>email_id</th>\n",
       "      <th></th>\n",
       "      <th></th>\n",
       "      <th></th>\n",
       "      <th></th>\n",
       "      <th></th>\n",
       "      <th></th>\n",
       "      <th></th>\n",
       "      <th></th>\n",
       "    </tr>\n",
       "  </thead>\n",
       "  <tbody>\n",
       "    <tr>\n",
       "      <th>85120</th>\n",
       "      <td>short_email</td>\n",
       "      <td>personalized</td>\n",
       "      <td>2</td>\n",
       "      <td>Sunday</td>\n",
       "      <td>US</td>\n",
       "      <td>0.227273</td>\n",
       "      <td>0</td>\n",
       "      <td>0</td>\n",
       "    </tr>\n",
       "    <tr>\n",
       "      <th>966622</th>\n",
       "      <td>long_email</td>\n",
       "      <td>personalized</td>\n",
       "      <td>12</td>\n",
       "      <td>Sunday</td>\n",
       "      <td>UK</td>\n",
       "      <td>0.090909</td>\n",
       "      <td>1</td>\n",
       "      <td>1</td>\n",
       "    </tr>\n",
       "    <tr>\n",
       "      <th>777221</th>\n",
       "      <td>long_email</td>\n",
       "      <td>personalized</td>\n",
       "      <td>11</td>\n",
       "      <td>Wednesday</td>\n",
       "      <td>US</td>\n",
       "      <td>0.090909</td>\n",
       "      <td>0</td>\n",
       "      <td>0</td>\n",
       "    </tr>\n",
       "    <tr>\n",
       "      <th>493711</th>\n",
       "      <td>short_email</td>\n",
       "      <td>generic</td>\n",
       "      <td>6</td>\n",
       "      <td>Monday</td>\n",
       "      <td>UK</td>\n",
       "      <td>0.045455</td>\n",
       "      <td>0</td>\n",
       "      <td>0</td>\n",
       "    </tr>\n",
       "    <tr>\n",
       "      <th>106887</th>\n",
       "      <td>long_email</td>\n",
       "      <td>generic</td>\n",
       "      <td>14</td>\n",
       "      <td>Monday</td>\n",
       "      <td>US</td>\n",
       "      <td>0.272727</td>\n",
       "      <td>0</td>\n",
       "      <td>0</td>\n",
       "    </tr>\n",
       "  </tbody>\n",
       "</table>\n",
       "</div>"
      ],
      "text/plain": [
       "             is_short is_personalized  hour    weekday country  purchases  \\\n",
       "email_id                                                                    \n",
       "85120     short_email    personalized     2     Sunday      US   0.227273   \n",
       "966622     long_email    personalized    12     Sunday      UK   0.090909   \n",
       "777221     long_email    personalized    11  Wednesday      US   0.090909   \n",
       "493711    short_email         generic     6     Monday      UK   0.045455   \n",
       "106887     long_email         generic    14     Monday      US   0.272727   \n",
       "\n",
       "          open  click  \n",
       "email_id               \n",
       "85120        0      0  \n",
       "966622       1      1  \n",
       "777221       0      0  \n",
       "493711       0      0  \n",
       "106887       0      0  "
      ]
     },
     "execution_count": 183,
     "metadata": {},
     "output_type": "execute_result"
    }
   ],
   "source": [
    "# normalized the purchases since it is continues feature to minimze the size effect\n",
    "from sklearn.preprocessing import MinMaxScaler\n",
    "scaler = MinMaxScaler()\n",
    "z['purchases'] = scaler.fit_transform(z[['purchases']])\n",
    "z.head()"
   ]
  },
  {
   "cell_type": "code",
   "execution_count": 184,
   "metadata": {},
   "outputs": [],
   "source": [
    "# I cut the 24 hours into 4 parts to make it easier to be categoried and analyzed\n",
    "z[\"hour\"] = pd.cut(email['hour'],bins = [0,9,13,18,24], labels=[\"morning\",'workhour1',\"workhour2\",'evening'])\n",
    "\n",
    "# labelencoder the categorical fields inside the table\n",
    "z['hour'] = LabelEncoder().fit_transform(z['hour'])\n",
    "z['is_short'] = LabelEncoder().fit_transform(z['is_short'])\n",
    "z['is_personalized'] = LabelEncoder().fit_transform(z['is_personalized'])\n",
    "z['weekday'] = LabelEncoder().fit_transform(z['weekday'])\n",
    "z['weekday'] = (z['weekday']>=4).astype(int)\n",
    "\n",
    "z = pd.get_dummies(z,columns=['country'])\n",
    "\n",
    "# define the x and y \n",
    "x = z.drop(columns=['click'])\n",
    "y = (z['click']==1).astype(int)"
   ]
  },
  {
   "cell_type": "code",
   "execution_count": 185,
   "metadata": {
    "scrolled": true
   },
   "outputs": [
    {
     "name": "stdout",
     "output_type": "stream",
     "text": [
      "Train positive ratio=0.021\n",
      "Test positive ratio=0.021\n"
     ]
    }
   ],
   "source": [
    "x_train, x_test, y_train, y_test = train_test_split(x, y, test_size=0.33, random_state=42,stratify=y)\n",
    "print('Train positive ratio={:.3f}'.format(y_train.mean()))\n",
    "print('Test positive ratio={:.3f}'.format(y_test.mean()))"
   ]
  },
  {
   "cell_type": "markdown",
   "metadata": {},
   "source": [
    "It can be found that the split has maintained the same percentage in both training and testing set."
   ]
  },
  {
   "cell_type": "markdown",
   "metadata": {},
   "source": [
    "#### Deal with imbalance data by SMOTE and RandomUnderSampler"
   ]
  },
  {
   "cell_type": "markdown",
   "metadata": {},
   "source": [
    "To better solve the imbalance problem, I will use **SMOTE** to oversampe the minority calss to have 30% the number of examples of the majority class(about 30000), then use **RandomUnderSampler** to reduce the number of examples in the majority class to have 50% more than the minority class(about 49000)."
   ]
  },
  {
   "cell_type": "code",
   "execution_count": 186,
   "metadata": {},
   "outputs": [],
   "source": [
    "from sklearn.ensemble import RandomForestClassifier\n",
    "rfc = RandomForestClassifier(n_estimators = 100, max_depth = 8, random_state = 42)\n",
    "rfc.fit(x_train,y_train)\n",
    "y_pred = rfc.predict(x_test)"
   ]
  },
  {
   "cell_type": "code",
   "execution_count": 187,
   "metadata": {},
   "outputs": [
    {
     "name": "stdout",
     "output_type": "stream",
     "text": [
      "The original x_train has \u001b[1m67000\u001b[0m data, and its corresponding click ratio is \u001b[1m0.02\u001b[0m.\n",
      "The x_train_resample after resampling has \u001b[1m78696\u001b[0m data, and the click ratio after resampling is \u001b[1m0.33\u001b[0m.\n"
     ]
    }
   ],
   "source": [
    "from imblearn.over_sampling import SMOTE\n",
    "from imblearn.under_sampling import RandomUnderSampler\n",
    "from imblearn.pipeline import Pipeline\n",
    "\n",
    "#oversample = SMOTE()\n",
    "oversample = SMOTE(sampling_strategy = 0.4)\n",
    "undersample = RandomUnderSampler(sampling_strategy = 0.5)\n",
    "\n",
    "# chain the two transforms together into a pipeline\n",
    "steps = [('o', oversample),('u',undersample)]\n",
    "pipeline = Pipeline(steps = steps)\n",
    "\n",
    "# transform the dataset\n",
    "x_train_resample, y_train_resample = pipeline.fit_resample(x_train, y_train)\n",
    "x_test_resample, y_test_resample = pipeline.fit_resample(x_test, y_test)\n",
    "\n",
    "print('The original x_train has \\033[1m{}\\033[0m data, and its corresponding click ratio is \\033[1m{}\\033[0m.'.format(x_train.shape[0],round(X['click'].sum()/X['click'].count(),2)))\n",
    "print('The x_train_resample after resampling has \\033[1m{}\\033[0m data, and the click ratio after resampling is \\033[1m{}\\033[0m.'.format(x_train_resample.shape[0], round(y_train_resample[y_train_resample == 1].sum() / y_train_resample.shape[0], 2)))"
   ]
  },
  {
   "cell_type": "code",
   "execution_count": 188,
   "metadata": {},
   "outputs": [],
   "source": [
    "# define the function to predict the test and get the metric score\n",
    "def predictions(x_set, y_set, x_test):\n",
    "    # To avoid the effect of different range of features, I scaled the features firstly.\n",
    "    # Create the scaler object with a range of 0-1\n",
    "    #scaler = MinMaxScaler(feature_range=(0, 1))\n",
    "        \n",
    "    # Fit on the training data\n",
    "    #scaler.fit(x_set)\n",
    "\n",
    "    # Transform both the training and testing data\n",
    "    #x_set = scaler.transform(x_set)\n",
    "    #x_test = scaler.transform(x_test)\n",
    "    \n",
    "    accuracy, precision, recall, f1, roc_auc, conf_mat = [],[],[],[],[],[]\n",
    "    \n",
    "    classifiers = []\n",
    "    classifiers.append(LogisticRegression(random_state = 42))\n",
    "    classifiers.append(SVC(random_state=42, probability = True))\n",
    "    classifiers.append(DecisionTreeClassifier(random_state= 42))\n",
    "    classifiers.append(RandomForestClassifier(random_state = 42))\n",
    "    classifiers.append(GradientBoostingClassifier(random_state = 42))   \n",
    "    \n",
    "    for classifier in classifiers:       \n",
    "        clf = classifier\n",
    "        #fit \n",
    "        clf.fit(x_set,y_set)\n",
    "        # predict\n",
    "        y_preds = clf.predict(x_test)\n",
    "        y_probs = clf.predict_proba(x_test)\n",
    "        #metrics\n",
    "        accuracy.append(round(accuracy_score(y_test,y_preds),3))\n",
    "        precision.append(round(precision_score(y_test,y_preds),3))\n",
    "        recall.append(round(recall_score(y_test,y_preds),3))\n",
    "        f1.append(round(f1_score(y_test,y_preds),3))\n",
    "        roc_auc.append(round(roc_auc_score(y_test,y_probs[:,1]),3))\n",
    "        conf_mat.append(confusion_matrix(y_test,y_preds))      \n",
    "    \n",
    "    results_df = pd.DataFrame({\"Algorithm\":[\"LogisticRegression\",\"SVC\",\"DecisionTree\",\"RandomForest\",\"GradientBoosting\"],\"Accuracy Score\":accuracy,\"Precision Score\":precision,\n",
    "                        \"Recall Score\":recall, \"f1 Score\":f1,\"Roc-auc Score\":roc_auc,\n",
    "                        \"Confusion Matrix\":conf_mat})\n",
    "    results_df = results_df.set_index('Algorithm')\n",
    "    return results_df"
   ]
  },
  {
   "cell_type": "code",
   "execution_count": 189,
   "metadata": {},
   "outputs": [
    {
     "name": "stderr",
     "output_type": "stream",
     "text": [
      "C:\\Users\\xiaoj\\anaconda3\\lib\\site-packages\\sklearn\\metrics\\_classification.py:1248: UndefinedMetricWarning: Precision is ill-defined and being set to 0.0 due to no predicted samples. Use `zero_division` parameter to control this behavior.\n",
      "  _warn_prf(average, modifier, msg_start, len(result))\n"
     ]
    },
    {
     "data": {
      "text/html": [
       "<div>\n",
       "<style scoped>\n",
       "    .dataframe tbody tr th:only-of-type {\n",
       "        vertical-align: middle;\n",
       "    }\n",
       "\n",
       "    .dataframe tbody tr th {\n",
       "        vertical-align: top;\n",
       "    }\n",
       "\n",
       "    .dataframe thead th {\n",
       "        text-align: right;\n",
       "    }\n",
       "</style>\n",
       "<table border=\"1\" class=\"dataframe\">\n",
       "  <thead>\n",
       "    <tr style=\"text-align: right;\">\n",
       "      <th></th>\n",
       "      <th>Accuracy Score</th>\n",
       "      <th>Precision Score</th>\n",
       "      <th>Recall Score</th>\n",
       "      <th>f1 Score</th>\n",
       "      <th>Roc-auc Score</th>\n",
       "      <th>Confusion Matrix</th>\n",
       "    </tr>\n",
       "    <tr>\n",
       "      <th>Algorithm</th>\n",
       "      <th></th>\n",
       "      <th></th>\n",
       "      <th></th>\n",
       "      <th></th>\n",
       "      <th></th>\n",
       "      <th></th>\n",
       "    </tr>\n",
       "  </thead>\n",
       "  <tbody>\n",
       "    <tr>\n",
       "      <th>LogisticRegression</th>\n",
       "      <td>0.979</td>\n",
       "      <td>0.641</td>\n",
       "      <td>0.036</td>\n",
       "      <td>0.068</td>\n",
       "      <td>0.964</td>\n",
       "      <td>[[32287, 14], [674, 25]]</td>\n",
       "    </tr>\n",
       "    <tr>\n",
       "      <th>SVC</th>\n",
       "      <td>0.979</td>\n",
       "      <td>0.000</td>\n",
       "      <td>0.000</td>\n",
       "      <td>0.000</td>\n",
       "      <td>0.806</td>\n",
       "      <td>[[32301, 0], [699, 0]]</td>\n",
       "    </tr>\n",
       "    <tr>\n",
       "      <th>DecisionTree</th>\n",
       "      <td>0.978</td>\n",
       "      <td>0.389</td>\n",
       "      <td>0.080</td>\n",
       "      <td>0.133</td>\n",
       "      <td>0.863</td>\n",
       "      <td>[[32213, 88], [643, 56]]</td>\n",
       "    </tr>\n",
       "    <tr>\n",
       "      <th>RandomForest</th>\n",
       "      <td>0.978</td>\n",
       "      <td>0.374</td>\n",
       "      <td>0.087</td>\n",
       "      <td>0.142</td>\n",
       "      <td>0.923</td>\n",
       "      <td>[[32199, 102], [638, 61]]</td>\n",
       "    </tr>\n",
       "    <tr>\n",
       "      <th>GradientBoosting</th>\n",
       "      <td>0.979</td>\n",
       "      <td>0.622</td>\n",
       "      <td>0.033</td>\n",
       "      <td>0.063</td>\n",
       "      <td>0.962</td>\n",
       "      <td>[[32287, 14], [676, 23]]</td>\n",
       "    </tr>\n",
       "  </tbody>\n",
       "</table>\n",
       "</div>"
      ],
      "text/plain": [
       "                    Accuracy Score  Precision Score  Recall Score  f1 Score  \\\n",
       "Algorithm                                                                     \n",
       "LogisticRegression           0.979            0.641         0.036     0.068   \n",
       "SVC                          0.979            0.000         0.000     0.000   \n",
       "DecisionTree                 0.978            0.389         0.080     0.133   \n",
       "RandomForest                 0.978            0.374         0.087     0.142   \n",
       "GradientBoosting             0.979            0.622         0.033     0.063   \n",
       "\n",
       "                    Roc-auc Score           Confusion Matrix  \n",
       "Algorithm                                                     \n",
       "LogisticRegression          0.964   [[32287, 14], [674, 25]]  \n",
       "SVC                         0.806     [[32301, 0], [699, 0]]  \n",
       "DecisionTree                0.863   [[32213, 88], [643, 56]]  \n",
       "RandomForest                0.923  [[32199, 102], [638, 61]]  \n",
       "GradientBoosting            0.962   [[32287, 14], [676, 23]]  "
      ]
     },
     "execution_count": 189,
     "metadata": {},
     "output_type": "execute_result"
    }
   ],
   "source": [
    "# First calculate the origical data(before resampling)\n",
    "original_results = predictions(x_train, y_train,x_test)\n",
    "original_results"
   ]
  },
  {
   "cell_type": "code",
   "execution_count": 484,
   "metadata": {},
   "outputs": [
    {
     "data": {
      "text/html": [
       "<div>\n",
       "<style scoped>\n",
       "    .dataframe tbody tr th:only-of-type {\n",
       "        vertical-align: middle;\n",
       "    }\n",
       "\n",
       "    .dataframe tbody tr th {\n",
       "        vertical-align: top;\n",
       "    }\n",
       "\n",
       "    .dataframe thead th {\n",
       "        text-align: right;\n",
       "    }\n",
       "</style>\n",
       "<table border=\"1\" class=\"dataframe\">\n",
       "  <thead>\n",
       "    <tr style=\"text-align: right;\">\n",
       "      <th></th>\n",
       "      <th>Accuracy Score</th>\n",
       "      <th>Precision Score</th>\n",
       "      <th>Recall Score</th>\n",
       "      <th>f1 Score</th>\n",
       "      <th>Roc-auc Score</th>\n",
       "      <th>Confusion Matrix</th>\n",
       "    </tr>\n",
       "    <tr>\n",
       "      <th>Algorithm</th>\n",
       "      <th></th>\n",
       "      <th></th>\n",
       "      <th></th>\n",
       "      <th></th>\n",
       "      <th></th>\n",
       "      <th></th>\n",
       "    </tr>\n",
       "  </thead>\n",
       "  <tbody>\n",
       "    <tr>\n",
       "      <th>LogisticRegression</th>\n",
       "      <td>0.919</td>\n",
       "      <td>0.204</td>\n",
       "      <td>0.980</td>\n",
       "      <td>0.338</td>\n",
       "      <td>0.963</td>\n",
       "      <td>[[29627, 2674], [14, 685]]</td>\n",
       "    </tr>\n",
       "    <tr>\n",
       "      <th>SVC</th>\n",
       "      <td>0.919</td>\n",
       "      <td>0.204</td>\n",
       "      <td>0.976</td>\n",
       "      <td>0.337</td>\n",
       "      <td>0.954</td>\n",
       "      <td>[[29637, 2664], [17, 682]]</td>\n",
       "    </tr>\n",
       "    <tr>\n",
       "      <th>DecisionTree</th>\n",
       "      <td>0.945</td>\n",
       "      <td>0.214</td>\n",
       "      <td>0.598</td>\n",
       "      <td>0.316</td>\n",
       "      <td>0.865</td>\n",
       "      <td>[[30769, 1532], [281, 418]]</td>\n",
       "    </tr>\n",
       "    <tr>\n",
       "      <th>RandomForest</th>\n",
       "      <td>0.943</td>\n",
       "      <td>0.213</td>\n",
       "      <td>0.625</td>\n",
       "      <td>0.318</td>\n",
       "      <td>0.930</td>\n",
       "      <td>[[30690, 1611], [262, 437]]</td>\n",
       "    </tr>\n",
       "    <tr>\n",
       "      <th>GradientBoosting</th>\n",
       "      <td>0.925</td>\n",
       "      <td>0.217</td>\n",
       "      <td>0.973</td>\n",
       "      <td>0.355</td>\n",
       "      <td>0.960</td>\n",
       "      <td>[[29845, 2456], [19, 680]]</td>\n",
       "    </tr>\n",
       "  </tbody>\n",
       "</table>\n",
       "</div>"
      ],
      "text/plain": [
       "                    Accuracy Score  Precision Score  Recall Score  f1 Score  \\\n",
       "Algorithm                                                                     \n",
       "LogisticRegression           0.919            0.204         0.980     0.338   \n",
       "SVC                          0.919            0.204         0.976     0.337   \n",
       "DecisionTree                 0.945            0.214         0.598     0.316   \n",
       "RandomForest                 0.943            0.213         0.625     0.318   \n",
       "GradientBoosting             0.925            0.217         0.973     0.355   \n",
       "\n",
       "                    Roc-auc Score             Confusion Matrix  \n",
       "Algorithm                                                       \n",
       "LogisticRegression          0.963   [[29627, 2674], [14, 685]]  \n",
       "SVC                         0.954   [[29637, 2664], [17, 682]]  \n",
       "DecisionTree                0.865  [[30769, 1532], [281, 418]]  \n",
       "RandomForest                0.930  [[30690, 1611], [262, 437]]  \n",
       "GradientBoosting            0.960   [[29845, 2456], [19, 680]]  "
      ]
     },
     "execution_count": 484,
     "metadata": {},
     "output_type": "execute_result"
    }
   ],
   "source": [
    "# after resampling\n",
    "resample_results = predictions(x_train_resample,y_train_resample,x_test)\n",
    "resample_results"
   ]
  },
  {
   "cell_type": "markdown",
   "metadata": {},
   "source": [
    "#### Imbalanced data and model selections summary:\n",
    "It can be seen that resampling data showed better recall and F1 scores than original data. \n",
    "\n",
    "\n",
    "And among all the models, **Random Forest** showed  higher **f1**, recall, and roc_auc scores, although its accuracy score is not the highest. \n",
    "\n",
    "\n",
    "Since in this case, what I really care is if one will click the link, I would firstly select the models with the higher recall and f1 scores to perform the following hyperparameter tuning to obtain the best model."
   ]
  },
  {
   "cell_type": "code",
   "execution_count": 190,
   "metadata": {},
   "outputs": [
    {
     "data": {
      "text/plain": [
       "Text(0.5, 1.0, 'Important Factors of Clicking the Link')"
      ]
     },
     "execution_count": 190,
     "metadata": {},
     "output_type": "execute_result"
    },
    {
     "data": {
      "image/png": "[encoded data removed]",
      "text/plain": [
       "<Figure size 504x504 with 1 Axes>"
      ]
     },
     "metadata": {
      "needs_background": "light"
     },
     "output_type": "display_data"
    }
   ],
   "source": [
    "clf = RandomForestClassifier(n_estimators = 100, max_depth = 8, random_state = 42)\n",
    "clf.fit(x_train_resample,y_train_resample)\n",
    "\n",
    "feature_imp = pd.Series(clf.feature_importances_, \n",
    "        index = list(x_train_resample.columns)).sort_values(ascending=False)\n",
    "\n",
    "\n",
    "# Creating a bar plot\n",
    "plt.figure(figsize = (7, 7))\n",
    "sns.barplot(x=feature_imp, y=feature_imp.index)\n",
    "# Add labels to your graph\n",
    "plt.xlabel('Feature Importance Score')\n",
    "plt.ylabel('Factors')\n",
    "plt.title(\"Important Factors of Clicking the Link\")"
   ]
  },
  {
   "cell_type": "code",
   "execution_count": 191,
   "metadata": {},
   "outputs": [
    {
     "data": {
      "text/plain": [
       "open               0.871290\n",
       "purchases          0.096502\n",
       "is_personalized    0.011029\n",
       "country_ES         0.004778\n",
       "country_FR         0.004622\n",
       "hour               0.003911\n",
       "weekday            0.003349\n",
       "country_US         0.001842\n",
       "is_short           0.001581\n",
       "country_UK         0.001096\n",
       "dtype: float64"
      ]
     },
     "execution_count": 191,
     "metadata": {},
     "output_type": "execute_result"
    }
   ],
   "source": [
    "feature_imp"
   ]
  },
  {
   "cell_type": "code",
   "execution_count": null,
   "metadata": {},
   "outputs": [
    {
     "name": "stderr",
     "output_type": "stream",
     "text": [
      " 49%|==========          | 38202/77520 [171:04<176:03]       "
     ]
    }
   ],
   "source": [
    "import shap\n",
    "\n",
    "# calculate shap values \n",
    "ex = shap.Explainer(clf, x_train_resample)\n",
    "shap_values = ex(x_test_resample)\n",
    "\n",
    "# plot\n",
    "plt.title('SHAP summary for ClickThroughRate', size=16)\n",
    "shap.plots.beeswarm(shap_values, max_display=8)"
   ]
  },
  {
   "cell_type": "code",
   "execution_count": 203,
   "metadata": {},
   "outputs": [
    {
     "name": "stdout",
     "output_type": "stream",
     "text": [
      "Train positive ratio=0.103\n",
      "Test positive ratio=0.103\n"
     ]
    },
    {
     "data": {
      "text/plain": [
       "Text(0.5, 1.0, 'Important Factors of Open the email')"
      ]
     },
     "execution_count": 203,
     "metadata": {},
     "output_type": "execute_result"
    },
    {
     "data": {
      "image/png": "[encoded data removed]",
      "text/plain": [
       "<Figure size 504x504 with 1 Axes>"
      ]
     },
     "metadata": {
      "needs_background": "light"
     },
     "output_type": "display_data"
    }
   ],
   "source": [
    "# I cut the 24 hours into 4 parts to make it easier to be categoried and analyzed\n",
    "z1 = email.copy()\n",
    "z1[\"hour\"] = pd.cut(email['hour'],bins = [0,9,13,18,24], labels=[\"morning\",'workhour1',\"workhour2\",'evening'])\n",
    "\n",
    "# labelencoder the categorical fields inside the table\n",
    "z1['hour'] = LabelEncoder().fit_transform(z['hour'])\n",
    "z1['is_short'] = LabelEncoder().fit_transform(z['is_short'])\n",
    "z1['is_personalized'] = LabelEncoder().fit_transform(z['is_personalized'])\n",
    "z1['weekday'] = LabelEncoder().fit_transform(z['weekday'])\n",
    "#z1['weekday'] = (z['weekday']>=4).astype(int)\n",
    "\n",
    "z1 = pd.get_dummies(z1,columns=['country'])\n",
    "\n",
    "# define the x and y \n",
    "x = z1.drop(columns=['click','open'])\n",
    "y = (z1['open']==1).astype(int)\n",
    "\n",
    "\n",
    "\n",
    "x_train, x_test, y_train, y_test = train_test_split(x, y, test_size=0.33, random_state=42,stratify=y)\n",
    "print('Train positive ratio={:.3f}'.format(y_train.mean()))\n",
    "print('Test positive ratio={:.3f}'.format(y_test.mean()))\n",
    "\n",
    "\n",
    "#oversample = SMOTE()\n",
    "oversample = SMOTE(sampling_strategy = 0.4)\n",
    "undersample = RandomUnderSampler(sampling_strategy = 0.5)\n",
    "\n",
    "# chain the two transforms together into a pipeline\n",
    "steps = [('o', oversample),('u',undersample)]\n",
    "pipeline = Pipeline(steps = steps)\n",
    "\n",
    "# transform the dataset\n",
    "x_train_resample, y_train_resample = pipeline.fit_resample(x_train, y_train)\n",
    "x_test_resample, y_test_resample = pipeline.fit_resample(x_test, y_test)\n",
    "\n",
    "\n",
    "clf = RandomForestClassifier(n_estimators = 100, max_depth = 8, random_state = 42)\n",
    "clf.fit(x_train_resample,y_train_resample)\n",
    "y_test_resample_pred = clf.predict(x_test_resample)\n",
    "\n",
    "feature_imp = pd.Series(clf.feature_importances_, \n",
    "        index = list(x_train_resample.columns)).sort_values(ascending=False)\n",
    "\n",
    "\n",
    "# Creating a bar plot\n",
    "plt.figure(figsize = (7, 7))\n",
    "sns.barplot(x=feature_imp, y=feature_imp.index)\n",
    "# Add labels to your graph\n",
    "plt.xlabel('Feature Importance Score')\n",
    "plt.ylabel('Factors')\n",
    "plt.title(\"Important Factors of Open the email\")"
   ]
  },
  {
   "cell_type": "code",
   "execution_count": 204,
   "metadata": {},
   "outputs": [
    {
     "name": "stdout",
     "output_type": "stream",
     "text": [
      "test precision: 58.34%\n",
      "test recall: 10.40%\n"
     ]
    }
   ],
   "source": [
    "print (\"test precision: {:.2f}%\".format(precision_score(y_test_resample,y_test_resample_pred) * 100))\n",
    "print (\"test recall: {:.2f}%\".format(recall_score(y_test_resample,y_test_resample_pred)* 100 ))"
   ]
  },
  {
   "cell_type": "code",
   "execution_count": 302,
   "metadata": {},
   "outputs": [
    {
     "name": "stdout",
     "output_type": "stream",
     "text": [
      "Previous emails sent: 33000.00 \n",
      "New emails sent: 8878.00 \n",
      "Saving percentage: 73.10 \n"
     ]
    }
   ],
   "source": [
    "old_emails_sent = ytest_pred.shape[0]\n",
    "new_email_sent = ytest_pred.sum()\n",
    "saving_percentage = 100 - new_email_sent * 100.0/old_emails_sent\n",
    "\n",
    "print('Previous emails sent: {:.2f} '.format(old_emails_sent))\n",
    "print('New emails sent: {:.2f} '.format(new_email_sent))\n",
    "print('Saving percentage: {:.2f} '.format(saving_percentage))"
   ]
  },
  {
   "cell_type": "markdown",
   "metadata": {},
   "source": [
    "I trained several ML model in previous section which can predict whether a user will click the link or not. The new email campaign strategy will only send email to uses which my model predicts positive."
   ]
  },
  {
   "cell_type": "markdown",
   "metadata": {},
   "source": [
    "### How to test if the model can improve click through rate?"
   ]
  },
  {
   "cell_type": "markdown",
   "metadata": {},
   "source": [
    "A/B test can be performed totest if the model can improve click through rate:\n",
    "H0: CRT no change; HA: CRT improved\n",
    "1. Randomly assign users to two groups, control and experimental group.\n",
    "2. In control group,user still use the old email-campaign strategy,i.e.,just send emails to users randomly.\n",
    "3. In experiment group,use the model I built to predict whether the user will click the link or not, and only send emails to those users whose predictive result is positive.\n",
    "4. Calculate sample size and test time\n",
    "5. Perform a one tail t-test/z-test to test whether experiment group's population proportion is higher than control groups's.\n",
    "6. Sanity Check and analysis"
   ]
  },
  {
   "cell_type": "code",
   "execution_count": null,
   "metadata": {},
   "outputs": [],
   "source": []
  }
 ],
 "metadata": {
  "kernelspec": {
   "display_name": "Python 3",
   "language": "python",
   "name": "python3"
  },
  "language_info": {
   "codemirror_mode": {
    "name": "ipython",
    "version": 3
   },
   "file_extension": ".py",
   "mimetype": "text/x-python",
   "name": "python",
   "nbconvert_exporter": "python",
   "pygments_lexer": "ipython3",
   "version": "3.8.3"
  }
 },
 "nbformat": 4,
 "nbformat_minor": 4
}
